{
 "cells": [
  {
   "cell_type": "markdown",
   "metadata": {},
   "source": [
    "# 使用3d-UNet做海马区分割的探索\n",
    "\n",
    "**训练中遇到的问题和解决方案**：\n",
    "\n",
    "* 显存不够 ： resize成64x64，batchsize调整为1，去除一次降采样和逆卷积操作\n",
    "* 损失显示Nan : 去除Normalize后的NAN值\n"
   ]
  },
  {
   "cell_type": "markdown",
   "metadata": {},
   "source": [
    "## 1 获取本机的GPU\n",
    "torch.device"
   ]
  },
  {
   "cell_type": "code",
   "execution_count": 1,
   "metadata": {
    "tags": []
   },
   "outputs": [
    {
     "output_type": "stream",
     "name": "stdout",
     "text": "cuda:0\n"
    },
    {
     "output_type": "execute_result",
     "data": {
      "text/plain": "'\\n# net.to(device)\\n# input,labels = data[0].to(device), data[1].to(device)\\n'"
     },
     "metadata": {},
     "execution_count": 1
    }
   ],
   "source": [
    "'''\n",
    "获取GPU，以后通过如下方式将模型和数据送入GPU:\n",
    "# net.to(device)\n",
    "# input,labels = data[0].to(device), data[1].to(device)\n",
    "'''\n",
    "\n",
    "import torch \n",
    "device = torch.device(\"cuda:0\" if torch.cuda.is_available() else \"cpu\")\n",
    "\n",
    "print(device)\n"
   ]
  },
  {
   "cell_type": "markdown",
   "metadata": {},
   "source": [
    "## 2 数据的预处理\n",
    "\n",
    "def normalization(data): 标准化\n",
    "\n",
    "def cat_image(direc)   : 拼接2d图为3d\n",
    "\n",
    "def cat_mask(direc)    : 拼接2d mask为3d后拼接左右侧海马区"
   ]
  },
  {
   "cell_type": "code",
   "execution_count": 2,
   "metadata": {
    "tags": []
   },
   "outputs": [
    {
     "output_type": "execute_result",
     "data": {
      "text/plain": "<matplotlib.image.AxesImage at 0x1bd5c254a48>"
     },
     "metadata": {},
     "execution_count": 2
    },
    {
     "output_type": "display_data",
     "data": {
      "text/plain": "<Figure size 432x288 with 1 Axes>",
      "image/svg+xml": "<?xml version=\"1.0\" encoding=\"utf-8\" standalone=\"no\"?>\r\n<!DOCTYPE svg PUBLIC \"-//W3C//DTD SVG 1.1//EN\"\r\n  \"http://www.w3.org/Graphics/SVG/1.1/DTD/svg11.dtd\">\r\n<!-- Created with matplotlib (https://matplotlib.org/) -->\r\n<svg height=\"250.618594pt\" version=\"1.1\" viewBox=\"0 0 251.565 250.618594\" width=\"251.565pt\" xmlns=\"http://www.w3.org/2000/svg\" xmlns:xlink=\"http://www.w3.org/1999/xlink\">\r\n <defs>\r\n  <style type=\"text/css\">\r\n*{stroke-linecap:butt;stroke-linejoin:round;}\r\n  </style>\r\n </defs>\r\n <g id=\"figure_1\">\r\n  <g id=\"patch_1\">\r\n   <path d=\"M 0 250.618594 \r\nL 251.565 250.618594 \r\nL 251.565 0 \r\nL 0 0 \r\nz\r\n\" style=\"fill:none;\"/>\r\n  </g>\r\n  <g id=\"axes_1\">\r\n   <g id=\"patch_2\">\r\n    <path d=\"M 26.925 226.740469 \r\nL 244.365 226.740469 \r\nL 244.365 9.300469 \r\nL 26.925 9.300469 \r\nz\r\n\" style=\"fill:#ffffff;\"/>\r\n   </g>\r\n   <g clip-path=\"url(#pc73a08c428)\">\r\n    <image height=\"218\" id=\"image7ce96b0633\" transform=\"scale(1 -1)translate(0 -218)\" width=\"218\" x=\"26.925\" xlink:href=\"data:image/png;base64,\r\niVBORw0KGgoAAAANSUhEUgAAANoAAADaCAYAAADAHVzbAAAABHNCSVQICAgIfAhkiAAABR5JREFUeJzt3L1OFFEAhuFZkT+FwhAooKKh8nYM4QJIoLHxEkwo6OioCAQ6QsGFcAEmWtnYYCggAf+wm5wzcVcw7Ce6z1MdMiebWeLrnB3ObK/X6902wFA9+dsnAKNAaBAgNAgQGgQIDQKEBgFCgwChQYDQIEBoECA0CBAaBAgNAoQGAUKDAKFBgNAgQGgQIDQIEBoECA0ChAYBQoMAoUGA0CBAaBAgNAgQGgQIDQKEBgFCgwChQYDQIEBoECA0CBAaBAgNAoQGAUKDAKFBgNAgQGgQIDQIEBoECA0ChAYBQoMAoUGA0CBAaBAgNAgQGgQIDQKEBgFCgwChQYDQIEBoECA0CBAaBAgNAoQGAUKDAKFBgNAgQGgQIDQIEBoECA0ChAYBQoMAoUGA0CBAaBAgNAgQGgQIDQKEBgFCgwChQYDQIEBoECA0CBAaBAgNAoQGAUKDAKFBgNAgQGgQIDQIEBoECA0ChAYBQoMAoUGA0CBAaBDw9G+fwGM3Pj7ejr9+/dp33uTkZDt+8qT+/+vLly/t+Nu3b31fo9fr/ckp3tnExEQ7/v79e9955bHuOZU/l6/XfV+D3ucockWDAKFBgKXjb6ytrbXjw8PDdry0tFTN+/TpUzv+/PlzdWx7e7sdb21tteNBS9FheP369S/PaXd3t5q3ubnZjp8+rf+J3N7etuObm5u+86i5okGA0CBAaBDQ6/V6t7+f9n8pb0s3Tf1ZaXFxsTr28ePHO73m9fV1O766uqqOzc/P3/cUh2JsbKwdX15e9p13fn7ejhcWFqpj5Z8uTk9P2/GrV6+qeT9+/Pjj8/wfuaJBgNAgYCSXjoN2YHSXVNPT07+c191ZUb5muROkaZrm2bNn9z3FoShvzX/48KEdLy8vV/MuLi7a8YsXL6pj5TK73P0xNzdXzSuX0riiQYTQIGAkl47l3beucrdD09TLrXJJ2L1zWS4dZ2ZmqmOPfRk16Px2dnaqn9+8edOOy9/N/v5+NW99ff1hTu4/4YoGAUKDAKFBwEhuuS4/WzRN07x9+7bvsfKz18rKSjt+//59NW92drYdd3flD/uBzrsq31v5QOvU1FQ1r9zZsre3Vx07Oztrx+XnMg96DuaKBgFCg4CRvL3f/U6PcmfEu3fvqmP9bu+X3xHSNE2zurrajk9OTh7kPB9auYTtLpFL5UOt3SVy9333e71Bf0IZRa5oECA0CBAaBIzkZ7Tu54dyJ3535335AGP52a57y77ckvX8+fPq2KCHLB+7QX+qKI9tbGxU8w4ODoZ7Yv8YVzQIEBoEjOTOkEFfh93dJVEqdz+8fPmyOlYuMdPf1/jQyqX1oO9rPD4+bsdHR0dDPad/nSsaBAgNAkbyruN9lHfZymXUv748JMsVDQKEBgFCg4CRvL1/H+Wt7vL2fvcJAF+BzSCuaBAgNAhwex8CXNEgQGgQIDQIEBoECA0ChAYBQoMAoUGA0CBAaBAgNAgQGgQIDQKEBgFCgwChQYDQIEBoECA0CBAaBAgNAoQGAUKDAKFBgNAgQGgQIDQIEBoECA0ChAYBQoMAoUGA0CBAaBAgNAgQGgQIDQKEBgFCgwChQYDQIEBoECA0CBAaBAgNAoQGAUKDAKFBgNAgQGgQIDQIEBoECA0ChAYBQoMAoUGA0CBAaBAgNAgQGgQIDQKEBgFCgwChQYDQIEBoECA0CBAaBAgNAoQGAUKDAKFBgNAgQGgQIDQIEBoECA0ChAYBQoMAoUGA0CDgJzr15MqVeSeCAAAAAElFTkSuQmCC\" y=\"-8.740469\"/>\r\n   </g>\r\n   <g id=\"matplotlib.axis_1\">\r\n    <g id=\"xtick_1\">\r\n     <g id=\"line2d_1\">\r\n      <defs>\r\n       <path d=\"M 0 0 \r\nL 0 3.5 \r\n\" id=\"ma42f4201d8\" style=\"stroke:#000000;stroke-width:0.8;\"/>\r\n      </defs>\r\n      <g>\r\n       <use style=\"stroke:#000000;stroke-width:0.8;\" x=\"28.62375\" xlink:href=\"#ma42f4201d8\" y=\"226.740469\"/>\r\n      </g>\r\n     </g>\r\n     <g id=\"text_1\">\r\n      <!-- 0 -->\r\n      <defs>\r\n       <path d=\"M 31.78125 66.40625 \r\nQ 24.171875 66.40625 20.328125 58.90625 \r\nQ 16.5 51.421875 16.5 36.375 \r\nQ 16.5 21.390625 20.328125 13.890625 \r\nQ 24.171875 6.390625 31.78125 6.390625 \r\nQ 39.453125 6.390625 43.28125 13.890625 \r\nQ 47.125 21.390625 47.125 36.375 \r\nQ 47.125 51.421875 43.28125 58.90625 \r\nQ 39.453125 66.40625 31.78125 66.40625 \r\nz\r\nM 31.78125 74.21875 \r\nQ 44.046875 74.21875 50.515625 64.515625 \r\nQ 56.984375 54.828125 56.984375 36.375 \r\nQ 56.984375 17.96875 50.515625 8.265625 \r\nQ 44.046875 -1.421875 31.78125 -1.421875 \r\nQ 19.53125 -1.421875 13.0625 8.265625 \r\nQ 6.59375 17.96875 6.59375 36.375 \r\nQ 6.59375 54.828125 13.0625 64.515625 \r\nQ 19.53125 74.21875 31.78125 74.21875 \r\nz\r\n\" id=\"DejaVuSans-48\"/>\r\n      </defs>\r\n      <g transform=\"translate(25.4425 241.338906)scale(0.1 -0.1)\">\r\n       <use xlink:href=\"#DejaVuSans-48\"/>\r\n      </g>\r\n     </g>\r\n    </g>\r\n    <g id=\"xtick_2\">\r\n     <g id=\"line2d_2\">\r\n      <g>\r\n       <use style=\"stroke:#000000;stroke-width:0.8;\" x=\"62.59875\" xlink:href=\"#ma42f4201d8\" y=\"226.740469\"/>\r\n      </g>\r\n     </g>\r\n     <g id=\"text_2\">\r\n      <!-- 10 -->\r\n      <defs>\r\n       <path d=\"M 12.40625 8.296875 \r\nL 28.515625 8.296875 \r\nL 28.515625 63.921875 \r\nL 10.984375 60.40625 \r\nL 10.984375 69.390625 \r\nL 28.421875 72.90625 \r\nL 38.28125 72.90625 \r\nL 38.28125 8.296875 \r\nL 54.390625 8.296875 \r\nL 54.390625 0 \r\nL 12.40625 0 \r\nz\r\n\" id=\"DejaVuSans-49\"/>\r\n      </defs>\r\n      <g transform=\"translate(56.23625 241.338906)scale(0.1 -0.1)\">\r\n       <use xlink:href=\"#DejaVuSans-49\"/>\r\n       <use x=\"63.623047\" xlink:href=\"#DejaVuSans-48\"/>\r\n      </g>\r\n     </g>\r\n    </g>\r\n    <g id=\"xtick_3\">\r\n     <g id=\"line2d_3\">\r\n      <g>\r\n       <use style=\"stroke:#000000;stroke-width:0.8;\" x=\"96.57375\" xlink:href=\"#ma42f4201d8\" y=\"226.740469\"/>\r\n      </g>\r\n     </g>\r\n     <g id=\"text_3\">\r\n      <!-- 20 -->\r\n      <defs>\r\n       <path d=\"M 19.1875 8.296875 \r\nL 53.609375 8.296875 \r\nL 53.609375 0 \r\nL 7.328125 0 \r\nL 7.328125 8.296875 \r\nQ 12.9375 14.109375 22.625 23.890625 \r\nQ 32.328125 33.6875 34.8125 36.53125 \r\nQ 39.546875 41.84375 41.421875 45.53125 \r\nQ 43.3125 49.21875 43.3125 52.78125 \r\nQ 43.3125 58.59375 39.234375 62.25 \r\nQ 35.15625 65.921875 28.609375 65.921875 \r\nQ 23.96875 65.921875 18.8125 64.3125 \r\nQ 13.671875 62.703125 7.8125 59.421875 \r\nL 7.8125 69.390625 \r\nQ 13.765625 71.78125 18.9375 73 \r\nQ 24.125 74.21875 28.421875 74.21875 \r\nQ 39.75 74.21875 46.484375 68.546875 \r\nQ 53.21875 62.890625 53.21875 53.421875 \r\nQ 53.21875 48.921875 51.53125 44.890625 \r\nQ 49.859375 40.875 45.40625 35.40625 \r\nQ 44.1875 33.984375 37.640625 27.21875 \r\nQ 31.109375 20.453125 19.1875 8.296875 \r\nz\r\n\" id=\"DejaVuSans-50\"/>\r\n      </defs>\r\n      <g transform=\"translate(90.21125 241.338906)scale(0.1 -0.1)\">\r\n       <use xlink:href=\"#DejaVuSans-50\"/>\r\n       <use x=\"63.623047\" xlink:href=\"#DejaVuSans-48\"/>\r\n      </g>\r\n     </g>\r\n    </g>\r\n    <g id=\"xtick_4\">\r\n     <g id=\"line2d_4\">\r\n      <g>\r\n       <use style=\"stroke:#000000;stroke-width:0.8;\" x=\"130.54875\" xlink:href=\"#ma42f4201d8\" y=\"226.740469\"/>\r\n      </g>\r\n     </g>\r\n     <g id=\"text_4\">\r\n      <!-- 30 -->\r\n      <defs>\r\n       <path d=\"M 40.578125 39.3125 \r\nQ 47.65625 37.796875 51.625 33 \r\nQ 55.609375 28.21875 55.609375 21.1875 \r\nQ 55.609375 10.40625 48.1875 4.484375 \r\nQ 40.765625 -1.421875 27.09375 -1.421875 \r\nQ 22.515625 -1.421875 17.65625 -0.515625 \r\nQ 12.796875 0.390625 7.625 2.203125 \r\nL 7.625 11.71875 \r\nQ 11.71875 9.328125 16.59375 8.109375 \r\nQ 21.484375 6.890625 26.8125 6.890625 \r\nQ 36.078125 6.890625 40.9375 10.546875 \r\nQ 45.796875 14.203125 45.796875 21.1875 \r\nQ 45.796875 27.640625 41.28125 31.265625 \r\nQ 36.765625 34.90625 28.71875 34.90625 \r\nL 20.21875 34.90625 \r\nL 20.21875 43.015625 \r\nL 29.109375 43.015625 \r\nQ 36.375 43.015625 40.234375 45.921875 \r\nQ 44.09375 48.828125 44.09375 54.296875 \r\nQ 44.09375 59.90625 40.109375 62.90625 \r\nQ 36.140625 65.921875 28.71875 65.921875 \r\nQ 24.65625 65.921875 20.015625 65.03125 \r\nQ 15.375 64.15625 9.8125 62.3125 \r\nL 9.8125 71.09375 \r\nQ 15.4375 72.65625 20.34375 73.4375 \r\nQ 25.25 74.21875 29.59375 74.21875 \r\nQ 40.828125 74.21875 47.359375 69.109375 \r\nQ 53.90625 64.015625 53.90625 55.328125 \r\nQ 53.90625 49.265625 50.4375 45.09375 \r\nQ 46.96875 40.921875 40.578125 39.3125 \r\nz\r\n\" id=\"DejaVuSans-51\"/>\r\n      </defs>\r\n      <g transform=\"translate(124.18625 241.338906)scale(0.1 -0.1)\">\r\n       <use xlink:href=\"#DejaVuSans-51\"/>\r\n       <use x=\"63.623047\" xlink:href=\"#DejaVuSans-48\"/>\r\n      </g>\r\n     </g>\r\n    </g>\r\n    <g id=\"xtick_5\">\r\n     <g id=\"line2d_5\">\r\n      <g>\r\n       <use style=\"stroke:#000000;stroke-width:0.8;\" x=\"164.52375\" xlink:href=\"#ma42f4201d8\" y=\"226.740469\"/>\r\n      </g>\r\n     </g>\r\n     <g id=\"text_5\">\r\n      <!-- 40 -->\r\n      <defs>\r\n       <path d=\"M 37.796875 64.3125 \r\nL 12.890625 25.390625 \r\nL 37.796875 25.390625 \r\nz\r\nM 35.203125 72.90625 \r\nL 47.609375 72.90625 \r\nL 47.609375 25.390625 \r\nL 58.015625 25.390625 \r\nL 58.015625 17.1875 \r\nL 47.609375 17.1875 \r\nL 47.609375 0 \r\nL 37.796875 0 \r\nL 37.796875 17.1875 \r\nL 4.890625 17.1875 \r\nL 4.890625 26.703125 \r\nz\r\n\" id=\"DejaVuSans-52\"/>\r\n      </defs>\r\n      <g transform=\"translate(158.16125 241.338906)scale(0.1 -0.1)\">\r\n       <use xlink:href=\"#DejaVuSans-52\"/>\r\n       <use x=\"63.623047\" xlink:href=\"#DejaVuSans-48\"/>\r\n      </g>\r\n     </g>\r\n    </g>\r\n    <g id=\"xtick_6\">\r\n     <g id=\"line2d_6\">\r\n      <g>\r\n       <use style=\"stroke:#000000;stroke-width:0.8;\" x=\"198.49875\" xlink:href=\"#ma42f4201d8\" y=\"226.740469\"/>\r\n      </g>\r\n     </g>\r\n     <g id=\"text_6\">\r\n      <!-- 50 -->\r\n      <defs>\r\n       <path d=\"M 10.796875 72.90625 \r\nL 49.515625 72.90625 \r\nL 49.515625 64.59375 \r\nL 19.828125 64.59375 \r\nL 19.828125 46.734375 \r\nQ 21.96875 47.46875 24.109375 47.828125 \r\nQ 26.265625 48.1875 28.421875 48.1875 \r\nQ 40.625 48.1875 47.75 41.5 \r\nQ 54.890625 34.8125 54.890625 23.390625 \r\nQ 54.890625 11.625 47.5625 5.09375 \r\nQ 40.234375 -1.421875 26.90625 -1.421875 \r\nQ 22.3125 -1.421875 17.546875 -0.640625 \r\nQ 12.796875 0.140625 7.71875 1.703125 \r\nL 7.71875 11.625 \r\nQ 12.109375 9.234375 16.796875 8.0625 \r\nQ 21.484375 6.890625 26.703125 6.890625 \r\nQ 35.15625 6.890625 40.078125 11.328125 \r\nQ 45.015625 15.765625 45.015625 23.390625 \r\nQ 45.015625 31 40.078125 35.4375 \r\nQ 35.15625 39.890625 26.703125 39.890625 \r\nQ 22.75 39.890625 18.8125 39.015625 \r\nQ 14.890625 38.140625 10.796875 36.28125 \r\nz\r\n\" id=\"DejaVuSans-53\"/>\r\n      </defs>\r\n      <g transform=\"translate(192.13625 241.338906)scale(0.1 -0.1)\">\r\n       <use xlink:href=\"#DejaVuSans-53\"/>\r\n       <use x=\"63.623047\" xlink:href=\"#DejaVuSans-48\"/>\r\n      </g>\r\n     </g>\r\n    </g>\r\n    <g id=\"xtick_7\">\r\n     <g id=\"line2d_7\">\r\n      <g>\r\n       <use style=\"stroke:#000000;stroke-width:0.8;\" x=\"232.47375\" xlink:href=\"#ma42f4201d8\" y=\"226.740469\"/>\r\n      </g>\r\n     </g>\r\n     <g id=\"text_7\">\r\n      <!-- 60 -->\r\n      <defs>\r\n       <path d=\"M 33.015625 40.375 \r\nQ 26.375 40.375 22.484375 35.828125 \r\nQ 18.609375 31.296875 18.609375 23.390625 \r\nQ 18.609375 15.53125 22.484375 10.953125 \r\nQ 26.375 6.390625 33.015625 6.390625 \r\nQ 39.65625 6.390625 43.53125 10.953125 \r\nQ 47.40625 15.53125 47.40625 23.390625 \r\nQ 47.40625 31.296875 43.53125 35.828125 \r\nQ 39.65625 40.375 33.015625 40.375 \r\nz\r\nM 52.59375 71.296875 \r\nL 52.59375 62.3125 \r\nQ 48.875 64.0625 45.09375 64.984375 \r\nQ 41.3125 65.921875 37.59375 65.921875 \r\nQ 27.828125 65.921875 22.671875 59.328125 \r\nQ 17.53125 52.734375 16.796875 39.40625 \r\nQ 19.671875 43.65625 24.015625 45.921875 \r\nQ 28.375 48.1875 33.59375 48.1875 \r\nQ 44.578125 48.1875 50.953125 41.515625 \r\nQ 57.328125 34.859375 57.328125 23.390625 \r\nQ 57.328125 12.15625 50.6875 5.359375 \r\nQ 44.046875 -1.421875 33.015625 -1.421875 \r\nQ 20.359375 -1.421875 13.671875 8.265625 \r\nQ 6.984375 17.96875 6.984375 36.375 \r\nQ 6.984375 53.65625 15.1875 63.9375 \r\nQ 23.390625 74.21875 37.203125 74.21875 \r\nQ 40.921875 74.21875 44.703125 73.484375 \r\nQ 48.484375 72.75 52.59375 71.296875 \r\nz\r\n\" id=\"DejaVuSans-54\"/>\r\n      </defs>\r\n      <g transform=\"translate(226.11125 241.338906)scale(0.1 -0.1)\">\r\n       <use xlink:href=\"#DejaVuSans-54\"/>\r\n       <use x=\"63.623047\" xlink:href=\"#DejaVuSans-48\"/>\r\n      </g>\r\n     </g>\r\n    </g>\r\n   </g>\r\n   <g id=\"matplotlib.axis_2\">\r\n    <g id=\"ytick_1\">\r\n     <g id=\"line2d_8\">\r\n      <defs>\r\n       <path d=\"M 0 0 \r\nL -3.5 0 \r\n\" id=\"m29c85d5164\" style=\"stroke:#000000;stroke-width:0.8;\"/>\r\n      </defs>\r\n      <g>\r\n       <use style=\"stroke:#000000;stroke-width:0.8;\" x=\"26.925\" xlink:href=\"#m29c85d5164\" y=\"10.999219\"/>\r\n      </g>\r\n     </g>\r\n     <g id=\"text_8\">\r\n      <!-- 0 -->\r\n      <g transform=\"translate(13.5625 14.798437)scale(0.1 -0.1)\">\r\n       <use xlink:href=\"#DejaVuSans-48\"/>\r\n      </g>\r\n     </g>\r\n    </g>\r\n    <g id=\"ytick_2\">\r\n     <g id=\"line2d_9\">\r\n      <g>\r\n       <use style=\"stroke:#000000;stroke-width:0.8;\" x=\"26.925\" xlink:href=\"#m29c85d5164\" y=\"44.974219\"/>\r\n      </g>\r\n     </g>\r\n     <g id=\"text_9\">\r\n      <!-- 10 -->\r\n      <g transform=\"translate(7.2 48.773437)scale(0.1 -0.1)\">\r\n       <use xlink:href=\"#DejaVuSans-49\"/>\r\n       <use x=\"63.623047\" xlink:href=\"#DejaVuSans-48\"/>\r\n      </g>\r\n     </g>\r\n    </g>\r\n    <g id=\"ytick_3\">\r\n     <g id=\"line2d_10\">\r\n      <g>\r\n       <use style=\"stroke:#000000;stroke-width:0.8;\" x=\"26.925\" xlink:href=\"#m29c85d5164\" y=\"78.949219\"/>\r\n      </g>\r\n     </g>\r\n     <g id=\"text_10\">\r\n      <!-- 20 -->\r\n      <g transform=\"translate(7.2 82.748437)scale(0.1 -0.1)\">\r\n       <use xlink:href=\"#DejaVuSans-50\"/>\r\n       <use x=\"63.623047\" xlink:href=\"#DejaVuSans-48\"/>\r\n      </g>\r\n     </g>\r\n    </g>\r\n    <g id=\"ytick_4\">\r\n     <g id=\"line2d_11\">\r\n      <g>\r\n       <use style=\"stroke:#000000;stroke-width:0.8;\" x=\"26.925\" xlink:href=\"#m29c85d5164\" y=\"112.924219\"/>\r\n      </g>\r\n     </g>\r\n     <g id=\"text_11\">\r\n      <!-- 30 -->\r\n      <g transform=\"translate(7.2 116.723437)scale(0.1 -0.1)\">\r\n       <use xlink:href=\"#DejaVuSans-51\"/>\r\n       <use x=\"63.623047\" xlink:href=\"#DejaVuSans-48\"/>\r\n      </g>\r\n     </g>\r\n    </g>\r\n    <g id=\"ytick_5\">\r\n     <g id=\"line2d_12\">\r\n      <g>\r\n       <use style=\"stroke:#000000;stroke-width:0.8;\" x=\"26.925\" xlink:href=\"#m29c85d5164\" y=\"146.899219\"/>\r\n      </g>\r\n     </g>\r\n     <g id=\"text_12\">\r\n      <!-- 40 -->\r\n      <g transform=\"translate(7.2 150.698437)scale(0.1 -0.1)\">\r\n       <use xlink:href=\"#DejaVuSans-52\"/>\r\n       <use x=\"63.623047\" xlink:href=\"#DejaVuSans-48\"/>\r\n      </g>\r\n     </g>\r\n    </g>\r\n    <g id=\"ytick_6\">\r\n     <g id=\"line2d_13\">\r\n      <g>\r\n       <use style=\"stroke:#000000;stroke-width:0.8;\" x=\"26.925\" xlink:href=\"#m29c85d5164\" y=\"180.874219\"/>\r\n      </g>\r\n     </g>\r\n     <g id=\"text_13\">\r\n      <!-- 50 -->\r\n      <g transform=\"translate(7.2 184.673437)scale(0.1 -0.1)\">\r\n       <use xlink:href=\"#DejaVuSans-53\"/>\r\n       <use x=\"63.623047\" xlink:href=\"#DejaVuSans-48\"/>\r\n      </g>\r\n     </g>\r\n    </g>\r\n    <g id=\"ytick_7\">\r\n     <g id=\"line2d_14\">\r\n      <g>\r\n       <use style=\"stroke:#000000;stroke-width:0.8;\" x=\"26.925\" xlink:href=\"#m29c85d5164\" y=\"214.849219\"/>\r\n      </g>\r\n     </g>\r\n     <g id=\"text_14\">\r\n      <!-- 60 -->\r\n      <g transform=\"translate(7.2 218.648437)scale(0.1 -0.1)\">\r\n       <use xlink:href=\"#DejaVuSans-54\"/>\r\n       <use x=\"63.623047\" xlink:href=\"#DejaVuSans-48\"/>\r\n      </g>\r\n     </g>\r\n    </g>\r\n   </g>\r\n   <g id=\"patch_3\">\r\n    <path d=\"M 26.925 226.740469 \r\nL 26.925 9.300469 \r\n\" style=\"fill:none;stroke:#000000;stroke-linecap:square;stroke-linejoin:miter;stroke-width:0.8;\"/>\r\n   </g>\r\n   <g id=\"patch_4\">\r\n    <path d=\"M 244.365 226.740469 \r\nL 244.365 9.300469 \r\n\" style=\"fill:none;stroke:#000000;stroke-linecap:square;stroke-linejoin:miter;stroke-width:0.8;\"/>\r\n   </g>\r\n   <g id=\"patch_5\">\r\n    <path d=\"M 26.925 226.740469 \r\nL 244.365 226.740469 \r\n\" style=\"fill:none;stroke:#000000;stroke-linecap:square;stroke-linejoin:miter;stroke-width:0.8;\"/>\r\n   </g>\r\n   <g id=\"patch_6\">\r\n    <path d=\"M 26.925 9.300469 \r\nL 244.365 9.300469 \r\n\" style=\"fill:none;stroke:#000000;stroke-linecap:square;stroke-linejoin:miter;stroke-width:0.8;\"/>\r\n   </g>\r\n  </g>\r\n </g>\r\n <defs>\r\n  <clipPath id=\"pc73a08c428\">\r\n   <rect height=\"217.44\" width=\"217.44\" x=\"26.925\" y=\"9.300469\"/>\r\n  </clipPath>\r\n </defs>\r\n</svg>\r\n",
      "image/png": "[encoded data removed]"
     },
     "metadata": {
      "needs_background": "light"
     }
    }
   ],
   "source": [
    "import cv2 as cv\n",
    "import numpy as np \n",
    "import os \n",
    "import matplotlib.pyplot as plt \n",
    "\n",
    "'''\n",
    "\n",
    "2d longitudinal slice的标准化 常用的numpy标准化函数\n",
    "\n",
    "'''\n",
    "def normalization(data):\n",
    "    _range = np.max(data) - np.min(data)\n",
    "    return (data - np.min(data)) / _range\n",
    "\n",
    "\n",
    "'''\n",
    "cat_image : 拼接189张longitudinal的png图片为一个4维的Numpy数组：C X D X H X W\n",
    "            标准化后消除nan数据\n",
    "\n",
    "'''\n",
    "def cat_image(direc):\n",
    "    ret_img = np.empty((1,189,64,64),dtype=np.float32)\n",
    "    paths = os.listdir(direc)\n",
    "    for i,imgs in enumerate(paths):\n",
    "        img = cv.imread(os.path.join(direc,imgs),0)\n",
    "        img = cv.resize(img,(64,64)).astype(np.float32)\n",
    "        img = normalization(img)\n",
    "        whereNan = np.isnan(img)\n",
    "        img[whereNan] = 0\n",
    "        ret_img[0][i] = img \n",
    "        \n",
    "    return ret_img\n",
    "\n",
    "\n",
    "'''\n",
    "cat_mask : 分别拼接左右侧海马区的mask为一个4维数组后再把两个海马区的mask合为一个数组作为label\n",
    "            标准化后消除nan数据\n",
    "\n",
    "'''\n",
    "def cat_mask(direc):\n",
    "\n",
    "    name = direc.split('\\\\')\n",
    "    leftmaskdir = name[-1][:-4] + 'L'\n",
    "    rightmaskdir = name[-1][:-4] + 'R'\n",
    "    leftfiles = os.listdir(os.path.join(direc,leftmaskdir))\n",
    "    rightfiles = os.listdir(os.path.join(direc,rightmaskdir)) \n",
    "    imgret = np.empty((1,189,64,64),dtype=np.float32)\n",
    "    for i,(lf,rf) in enumerate(zip(leftfiles,rightfiles)):\n",
    "\n",
    "        imgl = cv.imread(os.path.join(direc,leftmaskdir,lf),0)\n",
    "        imgl = cv.resize(imgl,(64,64)).astype(np.float32)\n",
    "        imgl = normalization(imgl)\n",
    "        whereNan = np.isnan(imgl)\n",
    "        imgl[whereNan] = 0\n",
    "\n",
    "        imgr = cv.imread(os.path.join(direc,rightmaskdir,rf),0)\n",
    "        imgr = cv.resize(imgr,(64,64)).astype(np.float32)\n",
    "        imgr = normalization(imgr)\n",
    "        whereNan = np.isnan(imgr)\n",
    "        imgr[whereNan] = 0\n",
    "\n",
    "        img_cat = imgl+imgr \n",
    "        where_larger_than_1 = img_cat > 1\n",
    "        img_cat[where_larger_than_1] = 1 \n",
    "        imgret[0][i] = img_cat\n",
    "    return imgret \n",
    "p1 = cat_mask('.\\\\DB3\\\\label\\\\100label\\\\ADNI_002_S_0295_13722_ACPC')\n",
    "plt.imshow(p1[0,73,:,:],cmap='gray') "
   ]
  },
  {
   "cell_type": "markdown",
   "metadata": {},
   "source": [
    "## 3 制作数据集\n",
    "class MRI_Train(Dataset) ： 继承pytorch的Dataset，制作训练数据集,把所有训练样本转为Tensor存入RAM\n",
    "\n",
    "class MRI_Test(Dataset) ： 继承pytorch的Dataset，制作测试数据集，把所有测试样本转为Tensor存入RAM"
   ]
  },
  {
   "cell_type": "code",
   "execution_count": 3,
   "metadata": {},
   "outputs": [],
   "source": [
    "from torch.utils.data import Dataset,DataLoader\n",
    "import os \n",
    "import torchvision\n",
    "import torch \n",
    "class MRI_Train(Dataset):\n",
    "\n",
    "    def __init__(self):\n",
    "\n",
    "        self.imgs = []\n",
    "        self.masks = []\n",
    "        imgdir = 'E:\\\\IMAGE PROCESSING\\\\DB3\\\\original\\\\'\n",
    "        imgtraindir = '100'\n",
    "        labdir = 'E:\\\\IMAGE PROCESSING\\\\DB3\\\\label\\\\'\n",
    "        labtraindir = '100label'\n",
    "        #　create dataset\n",
    "        img_individuals = os.listdir(os.path.join(imgdir,imgtraindir))\n",
    "        label_individuals = os.listdir(os.path.join(labdir,labtraindir))\n",
    "        for dirs in img_individuals:\n",
    "            pi = cat_image(os.path.join(imgdir,imgtraindir,dirs))\n",
    "            self.imgs.append(torch.from_numpy(pi)) \n",
    "        for dirs in label_individuals:\n",
    "            mi = cat_mask(os.path.join(labdir,labtraindir,dirs))\n",
    "            self.masks.append(torch.from_numpy(mi))\n",
    "\n",
    "    def __getitem__(self,index):\n",
    "        return (self.imgs[index],self.masks[index])\n",
    "\n",
    "    def __len__(self):\n",
    "        return len(self.imgs)\n",
    "\n",
    "\n",
    "\n",
    "class MRI_Test(Dataset):\n",
    "    def __init__(self):\n",
    "        self.imgs = []\n",
    "        self.masks= []\n",
    "        imgdir = 'E:\\\\IMAGE PROCESSING\\\\DB3\\\\original\\\\'\n",
    "        imgtestdir = '35'\n",
    "        labdir = 'E:\\\\IMAGE PROCESSING\\\\DB3\\\\label\\\\'\n",
    "        labtestdir ='35label'\n",
    "        # create dataset \n",
    "        img_individuals = os.listdir(os.path.join(imgdir,imgtestdir))\n",
    "        label_individuals = os.listdir(os.path.join(labdir,labtestdir))\n",
    "        for dirs in img_individuals:\n",
    "            pi = cat_image(os.path.join(imgdir,imgtestdir,dirs))\n",
    "            self.imgs.append(torch.from_numpy(pi)) \n",
    "        for dirs in label_individuals:\n",
    "            mi = cat_mask(os.path.join(labdir,labtestdir,dirs))\n",
    "            self.masks.append(torch.from_numpy(mi)) \n",
    "        \n",
    "    def __getitem__(self,index):\n",
    "        return (self.imgs[index],self.masks[index])\n",
    "\n",
    "    def __len__(self):\n",
    "        return len(self.imgs)"
   ]
  },
  {
   "cell_type": "code",
   "execution_count": 4,
   "metadata": {
    "tags": []
   },
   "outputs": [
    {
     "output_type": "stream",
     "name": "stdout",
     "text": "tensor([[[[0., 0., 0.,  ..., 0., 0., 0.],\n          [0., 0., 0.,  ..., 0., 0., 0.],\n          [0., 0., 0.,  ..., 0., 0., 0.],\n          ...,\n          [0., 0., 0.,  ..., 0., 0., 0.],\n          [0., 0., 0.,  ..., 0., 0., 0.],\n          [0., 0., 0.,  ..., 0., 0., 0.]],\n\n         [[0., 0., 0.,  ..., 0., 0., 0.],\n          [0., 0., 0.,  ..., 0., 0., 0.],\n          [0., 0., 0.,  ..., 0., 0., 0.],\n          ...,\n          [0., 0., 0.,  ..., 0., 0., 0.],\n          [0., 0., 0.,  ..., 0., 0., 0.],\n          [0., 0., 0.,  ..., 0., 0., 0.]],\n\n         [[0., 0., 0.,  ..., 0., 0., 0.],\n          [0., 0., 0.,  ..., 0., 0., 0.],\n          [0., 0., 0.,  ..., 0., 0., 0.],\n          ...,\n          [0., 0., 0.,  ..., 0., 0., 0.],\n          [0., 0., 0.,  ..., 0., 0., 0.],\n          [0., 0., 0.,  ..., 0., 0., 0.]],\n\n         ...,\n\n         [[0., 0., 0.,  ..., 0., 0., 0.],\n          [0., 0., 0.,  ..., 0., 0., 0.],\n          [0., 0., 0.,  ..., 0., 0., 0.],\n          ...,\n          [0., 0., 0.,  ..., 0., 0., 0.],\n          [0., 0., 0.,  ..., 0., 0., 0.],\n          [0., 0., 0.,  ..., 0., 0., 0.]],\n\n         [[0., 0., 0.,  ..., 0., 0., 0.],\n          [0., 0., 0.,  ..., 0., 0., 0.],\n          [0., 0., 0.,  ..., 0., 0., 0.],\n          ...,\n          [0., 0., 0.,  ..., 0., 0., 0.],\n          [0., 0., 0.,  ..., 0., 0., 0.],\n          [0., 0., 0.,  ..., 0., 0., 0.]],\n\n         [[0., 0., 0.,  ..., 0., 0., 0.],\n          [0., 0., 0.,  ..., 0., 0., 0.],\n          [0., 0., 0.,  ..., 0., 0., 0.],\n          ...,\n          [0., 0., 0.,  ..., 0., 0., 0.],\n          [0., 0., 0.,  ..., 0., 0., 0.],\n          [0., 0., 0.,  ..., 0., 0., 0.]]]])\n"
    },
    {
     "output_type": "execute_result",
     "data": {
      "text/plain": "<matplotlib.image.AxesImage at 0x1b00e2fc348>"
     },
     "metadata": {},
     "execution_count": 4
    },
    {
     "output_type": "display_data",
     "data": {
      "text/plain": "<Figure size 432x288 with 1 Axes>",
      "image/svg+xml": "<?xml version=\"1.0\" encoding=\"utf-8\" standalone=\"no\"?>\r\n<!DOCTYPE svg PUBLIC \"-//W3C//DTD SVG 1.1//EN\"\r\n  \"http://www.w3.org/Graphics/SVG/1.1/DTD/svg11.dtd\">\r\n<!-- Created with matplotlib (https://matplotlib.org/) -->\r\n<svg height=\"250.618594pt\" version=\"1.1\" viewBox=\"0 0 251.565 250.618594\" width=\"251.565pt\" xmlns=\"http://www.w3.org/2000/svg\" xmlns:xlink=\"http://www.w3.org/1999/xlink\">\r\n <defs>\r\n  <style type=\"text/css\">\r\n*{stroke-linecap:butt;stroke-linejoin:round;}\r\n  </style>\r\n </defs>\r\n <g id=\"figure_1\">\r\n  <g id=\"patch_1\">\r\n   <path d=\"M 0 250.618594 \r\nL 251.565 250.618594 \r\nL 251.565 0 \r\nL 0 0 \r\nz\r\n\" style=\"fill:none;\"/>\r\n  </g>\r\n  <g id=\"axes_1\">\r\n   <g id=\"patch_2\">\r\n    <path d=\"M 26.925 226.740469 \r\nL 244.365 226.740469 \r\nL 244.365 9.300469 \r\nL 26.925 9.300469 \r\nz\r\n\" style=\"fill:#ffffff;\"/>\r\n   </g>\r\n   <g clip-path=\"url(#p767e3a5ab8)\">\r\n    <image height=\"218\" id=\"imagee92134617a\" transform=\"scale(1 -1)translate(0 -218)\" width=\"218\" x=\"26.925\" xlink:href=\"data:image/png;base64,\r\niVBORw0KGgoAAAANSUhEUgAAANoAAADaCAYAAADAHVzbAAAABHNCSVQICAgIfAhkiAAABR5JREFUeJzt3L1OFFEAhuFZkT+FwhAooKKh8nYM4QJIoLHxEkwo6OioCAQ6QsGFcAEmWtnYYCggAf+wm5wzcVcw7Ce6z1MdMiebWeLrnB3ObK/X6902wFA9+dsnAKNAaBAgNAgQGgQIDQKEBgFCgwChQYDQIEBoECA0CBAaBAgNAoQGAUKDAKFBgNAgQGgQIDQIEBoECA0ChAYBQoMAoUGA0CBAaBAgNAgQGgQIDQKEBgFCgwChQYDQIEBoECA0CBAaBAgNAoQGAUKDAKFBgNAgQGgQIDQIEBoECA0ChAYBQoMAoUGA0CBAaBAgNAgQGgQIDQKEBgFCgwChQYDQIEBoECA0CBAaBAgNAoQGAUKDAKFBgNAgQGgQIDQIEBoECA0ChAYBQoMAoUGA0CBAaBAgNAgQGgQIDQKEBgFCgwChQYDQIEBoECA0CBAaBAgNAoQGAUKDAKFBgNAgQGgQIDQIEBoECA0ChAYBQoMAoUGA0CBAaBDw9G+fwGM3Pj7ejr9+/dp33uTkZDt+8qT+/+vLly/t+Nu3b31fo9fr/ckp3tnExEQ7/v79e9955bHuOZU/l6/XfV+D3ucockWDAKFBgKXjb6ytrbXjw8PDdry0tFTN+/TpUzv+/PlzdWx7e7sdb21tteNBS9FheP369S/PaXd3t5q3ubnZjp8+rf+J3N7etuObm5u+86i5okGA0CBAaBDQ6/V6t7+f9n8pb0s3Tf1ZaXFxsTr28ePHO73m9fV1O766uqqOzc/P3/cUh2JsbKwdX15e9p13fn7ejhcWFqpj5Z8uTk9P2/GrV6+qeT9+/Pjj8/wfuaJBgNAgYCSXjoN2YHSXVNPT07+c191ZUb5muROkaZrm2bNn9z3FoShvzX/48KEdLy8vV/MuLi7a8YsXL6pj5TK73P0xNzdXzSuX0riiQYTQIGAkl47l3beucrdD09TLrXJJ2L1zWS4dZ2ZmqmOPfRk16Px2dnaqn9+8edOOy9/N/v5+NW99ff1hTu4/4YoGAUKDAKFBwEhuuS4/WzRN07x9+7bvsfKz18rKSjt+//59NW92drYdd3flD/uBzrsq31v5QOvU1FQ1r9zZsre3Vx07Oztrx+XnMg96DuaKBgFCg4CRvL3f/U6PcmfEu3fvqmP9bu+X3xHSNE2zurrajk9OTh7kPB9auYTtLpFL5UOt3SVy9333e71Bf0IZRa5oECA0CBAaBIzkZ7Tu54dyJ3535335AGP52a57y77ckvX8+fPq2KCHLB+7QX+qKI9tbGxU8w4ODoZ7Yv8YVzQIEBoEjOTOkEFfh93dJVEqdz+8fPmyOlYuMdPf1/jQyqX1oO9rPD4+bsdHR0dDPad/nSsaBAgNAkbyruN9lHfZymXUv748JMsVDQKEBgFCg4CRvL1/H+Wt7vL2fvcJAF+BzSCuaBAgNAhwex8CXNEgQGgQIDQIEBoECA0ChAYBQoMAoUGA0CBAaBAgNAgQGgQIDQKEBgFCgwChQYDQIEBoECA0CBAaBAgNAoQGAUKDAKFBgNAgQGgQIDQIEBoECA0ChAYBQoMAoUGA0CBAaBAgNAgQGgQIDQKEBgFCgwChQYDQIEBoECA0CBAaBAgNAoQGAUKDAKFBgNAgQGgQIDQIEBoECA0ChAYBQoMAoUGA0CBAaBAgNAgQGgQIDQKEBgFCgwChQYDQIEBoECA0CBAaBAgNAoQGAUKDAKFBgNAgQGgQIDQIEBoECA0ChAYBQoMAoUGA0CDgJzr15MqVeSeCAAAAAElFTkSuQmCC\" y=\"-8.740469\"/>\r\n   </g>\r\n   <g id=\"matplotlib.axis_1\">\r\n    <g id=\"xtick_1\">\r\n     <g id=\"line2d_1\">\r\n      <defs>\r\n       <path d=\"M 0 0 \r\nL 0 3.5 \r\n\" id=\"m63fb24f095\" style=\"stroke:#000000;stroke-width:0.8;\"/>\r\n      </defs>\r\n      <g>\r\n       <use style=\"stroke:#000000;stroke-width:0.8;\" x=\"28.62375\" xlink:href=\"#m63fb24f095\" y=\"226.740469\"/>\r\n      </g>\r\n     </g>\r\n     <g id=\"text_1\">\r\n      <!-- 0 -->\r\n      <defs>\r\n       <path d=\"M 31.78125 66.40625 \r\nQ 24.171875 66.40625 20.328125 58.90625 \r\nQ 16.5 51.421875 16.5 36.375 \r\nQ 16.5 21.390625 20.328125 13.890625 \r\nQ 24.171875 6.390625 31.78125 6.390625 \r\nQ 39.453125 6.390625 43.28125 13.890625 \r\nQ 47.125 21.390625 47.125 36.375 \r\nQ 47.125 51.421875 43.28125 58.90625 \r\nQ 39.453125 66.40625 31.78125 66.40625 \r\nz\r\nM 31.78125 74.21875 \r\nQ 44.046875 74.21875 50.515625 64.515625 \r\nQ 56.984375 54.828125 56.984375 36.375 \r\nQ 56.984375 17.96875 50.515625 8.265625 \r\nQ 44.046875 -1.421875 31.78125 -1.421875 \r\nQ 19.53125 -1.421875 13.0625 8.265625 \r\nQ 6.59375 17.96875 6.59375 36.375 \r\nQ 6.59375 54.828125 13.0625 64.515625 \r\nQ 19.53125 74.21875 31.78125 74.21875 \r\nz\r\n\" id=\"DejaVuSans-48\"/>\r\n      </defs>\r\n      <g transform=\"translate(25.4425 241.338906)scale(0.1 -0.1)\">\r\n       <use xlink:href=\"#DejaVuSans-48\"/>\r\n      </g>\r\n     </g>\r\n    </g>\r\n    <g id=\"xtick_2\">\r\n     <g id=\"line2d_2\">\r\n      <g>\r\n       <use style=\"stroke:#000000;stroke-width:0.8;\" x=\"62.59875\" xlink:href=\"#m63fb24f095\" y=\"226.740469\"/>\r\n      </g>\r\n     </g>\r\n     <g id=\"text_2\">\r\n      <!-- 10 -->\r\n      <defs>\r\n       <path d=\"M 12.40625 8.296875 \r\nL 28.515625 8.296875 \r\nL 28.515625 63.921875 \r\nL 10.984375 60.40625 \r\nL 10.984375 69.390625 \r\nL 28.421875 72.90625 \r\nL 38.28125 72.90625 \r\nL 38.28125 8.296875 \r\nL 54.390625 8.296875 \r\nL 54.390625 0 \r\nL 12.40625 0 \r\nz\r\n\" id=\"DejaVuSans-49\"/>\r\n      </defs>\r\n      <g transform=\"translate(56.23625 241.338906)scale(0.1 -0.1)\">\r\n       <use xlink:href=\"#DejaVuSans-49\"/>\r\n       <use x=\"63.623047\" xlink:href=\"#DejaVuSans-48\"/>\r\n      </g>\r\n     </g>\r\n    </g>\r\n    <g id=\"xtick_3\">\r\n     <g id=\"line2d_3\">\r\n      <g>\r\n       <use style=\"stroke:#000000;stroke-width:0.8;\" x=\"96.57375\" xlink:href=\"#m63fb24f095\" y=\"226.740469\"/>\r\n      </g>\r\n     </g>\r\n     <g id=\"text_3\">\r\n      <!-- 20 -->\r\n      <defs>\r\n       <path d=\"M 19.1875 8.296875 \r\nL 53.609375 8.296875 \r\nL 53.609375 0 \r\nL 7.328125 0 \r\nL 7.328125 8.296875 \r\nQ 12.9375 14.109375 22.625 23.890625 \r\nQ 32.328125 33.6875 34.8125 36.53125 \r\nQ 39.546875 41.84375 41.421875 45.53125 \r\nQ 43.3125 49.21875 43.3125 52.78125 \r\nQ 43.3125 58.59375 39.234375 62.25 \r\nQ 35.15625 65.921875 28.609375 65.921875 \r\nQ 23.96875 65.921875 18.8125 64.3125 \r\nQ 13.671875 62.703125 7.8125 59.421875 \r\nL 7.8125 69.390625 \r\nQ 13.765625 71.78125 18.9375 73 \r\nQ 24.125 74.21875 28.421875 74.21875 \r\nQ 39.75 74.21875 46.484375 68.546875 \r\nQ 53.21875 62.890625 53.21875 53.421875 \r\nQ 53.21875 48.921875 51.53125 44.890625 \r\nQ 49.859375 40.875 45.40625 35.40625 \r\nQ 44.1875 33.984375 37.640625 27.21875 \r\nQ 31.109375 20.453125 19.1875 8.296875 \r\nz\r\n\" id=\"DejaVuSans-50\"/>\r\n      </defs>\r\n      <g transform=\"translate(90.21125 241.338906)scale(0.1 -0.1)\">\r\n       <use xlink:href=\"#DejaVuSans-50\"/>\r\n       <use x=\"63.623047\" xlink:href=\"#DejaVuSans-48\"/>\r\n      </g>\r\n     </g>\r\n    </g>\r\n    <g id=\"xtick_4\">\r\n     <g id=\"line2d_4\">\r\n      <g>\r\n       <use style=\"stroke:#000000;stroke-width:0.8;\" x=\"130.54875\" xlink:href=\"#m63fb24f095\" y=\"226.740469\"/>\r\n      </g>\r\n     </g>\r\n     <g id=\"text_4\">\r\n      <!-- 30 -->\r\n      <defs>\r\n       <path d=\"M 40.578125 39.3125 \r\nQ 47.65625 37.796875 51.625 33 \r\nQ 55.609375 28.21875 55.609375 21.1875 \r\nQ 55.609375 10.40625 48.1875 4.484375 \r\nQ 40.765625 -1.421875 27.09375 -1.421875 \r\nQ 22.515625 -1.421875 17.65625 -0.515625 \r\nQ 12.796875 0.390625 7.625 2.203125 \r\nL 7.625 11.71875 \r\nQ 11.71875 9.328125 16.59375 8.109375 \r\nQ 21.484375 6.890625 26.8125 6.890625 \r\nQ 36.078125 6.890625 40.9375 10.546875 \r\nQ 45.796875 14.203125 45.796875 21.1875 \r\nQ 45.796875 27.640625 41.28125 31.265625 \r\nQ 36.765625 34.90625 28.71875 34.90625 \r\nL 20.21875 34.90625 \r\nL 20.21875 43.015625 \r\nL 29.109375 43.015625 \r\nQ 36.375 43.015625 40.234375 45.921875 \r\nQ 44.09375 48.828125 44.09375 54.296875 \r\nQ 44.09375 59.90625 40.109375 62.90625 \r\nQ 36.140625 65.921875 28.71875 65.921875 \r\nQ 24.65625 65.921875 20.015625 65.03125 \r\nQ 15.375 64.15625 9.8125 62.3125 \r\nL 9.8125 71.09375 \r\nQ 15.4375 72.65625 20.34375 73.4375 \r\nQ 25.25 74.21875 29.59375 74.21875 \r\nQ 40.828125 74.21875 47.359375 69.109375 \r\nQ 53.90625 64.015625 53.90625 55.328125 \r\nQ 53.90625 49.265625 50.4375 45.09375 \r\nQ 46.96875 40.921875 40.578125 39.3125 \r\nz\r\n\" id=\"DejaVuSans-51\"/>\r\n      </defs>\r\n      <g transform=\"translate(124.18625 241.338906)scale(0.1 -0.1)\">\r\n       <use xlink:href=\"#DejaVuSans-51\"/>\r\n       <use x=\"63.623047\" xlink:href=\"#DejaVuSans-48\"/>\r\n      </g>\r\n     </g>\r\n    </g>\r\n    <g id=\"xtick_5\">\r\n     <g id=\"line2d_5\">\r\n      <g>\r\n       <use style=\"stroke:#000000;stroke-width:0.8;\" x=\"164.52375\" xlink:href=\"#m63fb24f095\" y=\"226.740469\"/>\r\n      </g>\r\n     </g>\r\n     <g id=\"text_5\">\r\n      <!-- 40 -->\r\n      <defs>\r\n       <path d=\"M 37.796875 64.3125 \r\nL 12.890625 25.390625 \r\nL 37.796875 25.390625 \r\nz\r\nM 35.203125 72.90625 \r\nL 47.609375 72.90625 \r\nL 47.609375 25.390625 \r\nL 58.015625 25.390625 \r\nL 58.015625 17.1875 \r\nL 47.609375 17.1875 \r\nL 47.609375 0 \r\nL 37.796875 0 \r\nL 37.796875 17.1875 \r\nL 4.890625 17.1875 \r\nL 4.890625 26.703125 \r\nz\r\n\" id=\"DejaVuSans-52\"/>\r\n      </defs>\r\n      <g transform=\"translate(158.16125 241.338906)scale(0.1 -0.1)\">\r\n       <use xlink:href=\"#DejaVuSans-52\"/>\r\n       <use x=\"63.623047\" xlink:href=\"#DejaVuSans-48\"/>\r\n      </g>\r\n     </g>\r\n    </g>\r\n    <g id=\"xtick_6\">\r\n     <g id=\"line2d_6\">\r\n      <g>\r\n       <use style=\"stroke:#000000;stroke-width:0.8;\" x=\"198.49875\" xlink:href=\"#m63fb24f095\" y=\"226.740469\"/>\r\n      </g>\r\n     </g>\r\n     <g id=\"text_6\">\r\n      <!-- 50 -->\r\n      <defs>\r\n       <path d=\"M 10.796875 72.90625 \r\nL 49.515625 72.90625 \r\nL 49.515625 64.59375 \r\nL 19.828125 64.59375 \r\nL 19.828125 46.734375 \r\nQ 21.96875 47.46875 24.109375 47.828125 \r\nQ 26.265625 48.1875 28.421875 48.1875 \r\nQ 40.625 48.1875 47.75 41.5 \r\nQ 54.890625 34.8125 54.890625 23.390625 \r\nQ 54.890625 11.625 47.5625 5.09375 \r\nQ 40.234375 -1.421875 26.90625 -1.421875 \r\nQ 22.3125 -1.421875 17.546875 -0.640625 \r\nQ 12.796875 0.140625 7.71875 1.703125 \r\nL 7.71875 11.625 \r\nQ 12.109375 9.234375 16.796875 8.0625 \r\nQ 21.484375 6.890625 26.703125 6.890625 \r\nQ 35.15625 6.890625 40.078125 11.328125 \r\nQ 45.015625 15.765625 45.015625 23.390625 \r\nQ 45.015625 31 40.078125 35.4375 \r\nQ 35.15625 39.890625 26.703125 39.890625 \r\nQ 22.75 39.890625 18.8125 39.015625 \r\nQ 14.890625 38.140625 10.796875 36.28125 \r\nz\r\n\" id=\"DejaVuSans-53\"/>\r\n      </defs>\r\n      <g transform=\"translate(192.13625 241.338906)scale(0.1 -0.1)\">\r\n       <use xlink:href=\"#DejaVuSans-53\"/>\r\n       <use x=\"63.623047\" xlink:href=\"#DejaVuSans-48\"/>\r\n      </g>\r\n     </g>\r\n    </g>\r\n    <g id=\"xtick_7\">\r\n     <g id=\"line2d_7\">\r\n      <g>\r\n       <use style=\"stroke:#000000;stroke-width:0.8;\" x=\"232.47375\" xlink:href=\"#m63fb24f095\" y=\"226.740469\"/>\r\n      </g>\r\n     </g>\r\n     <g id=\"text_7\">\r\n      <!-- 60 -->\r\n      <defs>\r\n       <path d=\"M 33.015625 40.375 \r\nQ 26.375 40.375 22.484375 35.828125 \r\nQ 18.609375 31.296875 18.609375 23.390625 \r\nQ 18.609375 15.53125 22.484375 10.953125 \r\nQ 26.375 6.390625 33.015625 6.390625 \r\nQ 39.65625 6.390625 43.53125 10.953125 \r\nQ 47.40625 15.53125 47.40625 23.390625 \r\nQ 47.40625 31.296875 43.53125 35.828125 \r\nQ 39.65625 40.375 33.015625 40.375 \r\nz\r\nM 52.59375 71.296875 \r\nL 52.59375 62.3125 \r\nQ 48.875 64.0625 45.09375 64.984375 \r\nQ 41.3125 65.921875 37.59375 65.921875 \r\nQ 27.828125 65.921875 22.671875 59.328125 \r\nQ 17.53125 52.734375 16.796875 39.40625 \r\nQ 19.671875 43.65625 24.015625 45.921875 \r\nQ 28.375 48.1875 33.59375 48.1875 \r\nQ 44.578125 48.1875 50.953125 41.515625 \r\nQ 57.328125 34.859375 57.328125 23.390625 \r\nQ 57.328125 12.15625 50.6875 5.359375 \r\nQ 44.046875 -1.421875 33.015625 -1.421875 \r\nQ 20.359375 -1.421875 13.671875 8.265625 \r\nQ 6.984375 17.96875 6.984375 36.375 \r\nQ 6.984375 53.65625 15.1875 63.9375 \r\nQ 23.390625 74.21875 37.203125 74.21875 \r\nQ 40.921875 74.21875 44.703125 73.484375 \r\nQ 48.484375 72.75 52.59375 71.296875 \r\nz\r\n\" id=\"DejaVuSans-54\"/>\r\n      </defs>\r\n      <g transform=\"translate(226.11125 241.338906)scale(0.1 -0.1)\">\r\n       <use xlink:href=\"#DejaVuSans-54\"/>\r\n       <use x=\"63.623047\" xlink:href=\"#DejaVuSans-48\"/>\r\n      </g>\r\n     </g>\r\n    </g>\r\n   </g>\r\n   <g id=\"matplotlib.axis_2\">\r\n    <g id=\"ytick_1\">\r\n     <g id=\"line2d_8\">\r\n      <defs>\r\n       <path d=\"M 0 0 \r\nL -3.5 0 \r\n\" id=\"m168d5a1caa\" style=\"stroke:#000000;stroke-width:0.8;\"/>\r\n      </defs>\r\n      <g>\r\n       <use style=\"stroke:#000000;stroke-width:0.8;\" x=\"26.925\" xlink:href=\"#m168d5a1caa\" y=\"10.999219\"/>\r\n      </g>\r\n     </g>\r\n     <g id=\"text_8\">\r\n      <!-- 0 -->\r\n      <g transform=\"translate(13.5625 14.798437)scale(0.1 -0.1)\">\r\n       <use xlink:href=\"#DejaVuSans-48\"/>\r\n      </g>\r\n     </g>\r\n    </g>\r\n    <g id=\"ytick_2\">\r\n     <g id=\"line2d_9\">\r\n      <g>\r\n       <use style=\"stroke:#000000;stroke-width:0.8;\" x=\"26.925\" xlink:href=\"#m168d5a1caa\" y=\"44.974219\"/>\r\n      </g>\r\n     </g>\r\n     <g id=\"text_9\">\r\n      <!-- 10 -->\r\n      <g transform=\"translate(7.2 48.773437)scale(0.1 -0.1)\">\r\n       <use xlink:href=\"#DejaVuSans-49\"/>\r\n       <use x=\"63.623047\" xlink:href=\"#DejaVuSans-48\"/>\r\n      </g>\r\n     </g>\r\n    </g>\r\n    <g id=\"ytick_3\">\r\n     <g id=\"line2d_10\">\r\n      <g>\r\n       <use style=\"stroke:#000000;stroke-width:0.8;\" x=\"26.925\" xlink:href=\"#m168d5a1caa\" y=\"78.949219\"/>\r\n      </g>\r\n     </g>\r\n     <g id=\"text_10\">\r\n      <!-- 20 -->\r\n      <g transform=\"translate(7.2 82.748437)scale(0.1 -0.1)\">\r\n       <use xlink:href=\"#DejaVuSans-50\"/>\r\n       <use x=\"63.623047\" xlink:href=\"#DejaVuSans-48\"/>\r\n      </g>\r\n     </g>\r\n    </g>\r\n    <g id=\"ytick_4\">\r\n     <g id=\"line2d_11\">\r\n      <g>\r\n       <use style=\"stroke:#000000;stroke-width:0.8;\" x=\"26.925\" xlink:href=\"#m168d5a1caa\" y=\"112.924219\"/>\r\n      </g>\r\n     </g>\r\n     <g id=\"text_11\">\r\n      <!-- 30 -->\r\n      <g transform=\"translate(7.2 116.723437)scale(0.1 -0.1)\">\r\n       <use xlink:href=\"#DejaVuSans-51\"/>\r\n       <use x=\"63.623047\" xlink:href=\"#DejaVuSans-48\"/>\r\n      </g>\r\n     </g>\r\n    </g>\r\n    <g id=\"ytick_5\">\r\n     <g id=\"line2d_12\">\r\n      <g>\r\n       <use style=\"stroke:#000000;stroke-width:0.8;\" x=\"26.925\" xlink:href=\"#m168d5a1caa\" y=\"146.899219\"/>\r\n      </g>\r\n     </g>\r\n     <g id=\"text_12\">\r\n      <!-- 40 -->\r\n      <g transform=\"translate(7.2 150.698437)scale(0.1 -0.1)\">\r\n       <use xlink:href=\"#DejaVuSans-52\"/>\r\n       <use x=\"63.623047\" xlink:href=\"#DejaVuSans-48\"/>\r\n      </g>\r\n     </g>\r\n    </g>\r\n    <g id=\"ytick_6\">\r\n     <g id=\"line2d_13\">\r\n      <g>\r\n       <use style=\"stroke:#000000;stroke-width:0.8;\" x=\"26.925\" xlink:href=\"#m168d5a1caa\" y=\"180.874219\"/>\r\n      </g>\r\n     </g>\r\n     <g id=\"text_13\">\r\n      <!-- 50 -->\r\n      <g transform=\"translate(7.2 184.673437)scale(0.1 -0.1)\">\r\n       <use xlink:href=\"#DejaVuSans-53\"/>\r\n       <use x=\"63.623047\" xlink:href=\"#DejaVuSans-48\"/>\r\n      </g>\r\n     </g>\r\n    </g>\r\n    <g id=\"ytick_7\">\r\n     <g id=\"line2d_14\">\r\n      <g>\r\n       <use style=\"stroke:#000000;stroke-width:0.8;\" x=\"26.925\" xlink:href=\"#m168d5a1caa\" y=\"214.849219\"/>\r\n      </g>\r\n     </g>\r\n     <g id=\"text_14\">\r\n      <!-- 60 -->\r\n      <g transform=\"translate(7.2 218.648437)scale(0.1 -0.1)\">\r\n       <use xlink:href=\"#DejaVuSans-54\"/>\r\n       <use x=\"63.623047\" xlink:href=\"#DejaVuSans-48\"/>\r\n      </g>\r\n     </g>\r\n    </g>\r\n   </g>\r\n   <g id=\"patch_3\">\r\n    <path d=\"M 26.925 226.740469 \r\nL 26.925 9.300469 \r\n\" style=\"fill:none;stroke:#000000;stroke-linecap:square;stroke-linejoin:miter;stroke-width:0.8;\"/>\r\n   </g>\r\n   <g id=\"patch_4\">\r\n    <path d=\"M 244.365 226.740469 \r\nL 244.365 9.300469 \r\n\" style=\"fill:none;stroke:#000000;stroke-linecap:square;stroke-linejoin:miter;stroke-width:0.8;\"/>\r\n   </g>\r\n   <g id=\"patch_5\">\r\n    <path d=\"M 26.925 226.740469 \r\nL 244.365 226.740469 \r\n\" style=\"fill:none;stroke:#000000;stroke-linecap:square;stroke-linejoin:miter;stroke-width:0.8;\"/>\r\n   </g>\r\n   <g id=\"patch_6\">\r\n    <path d=\"M 26.925 9.300469 \r\nL 244.365 9.300469 \r\n\" style=\"fill:none;stroke:#000000;stroke-linecap:square;stroke-linejoin:miter;stroke-width:0.8;\"/>\r\n   </g>\r\n  </g>\r\n </g>\r\n <defs>\r\n  <clipPath id=\"p767e3a5ab8\">\r\n   <rect height=\"217.44\" width=\"217.44\" x=\"26.925\" y=\"9.300469\"/>\r\n  </clipPath>\r\n </defs>\r\n</svg>\r\n",
      "image/png": "[encoded data removed]"
     },
     "metadata": {
      "needs_background": "light"
     }
    }
   ],
   "source": [
    "trainset = MRI_Train()\n",
    "testd = trainset[0][1]\n",
    "print(testd)\n",
    "plt.imshow(trainset[0][1][0][73],cmap='gray') \n"
   ]
  },
  {
   "cell_type": "code",
   "execution_count": 5,
   "metadata": {},
   "outputs": [],
   "source": [
    "testset = MRI_Test()"
   ]
  },
  {
   "cell_type": "markdown",
   "metadata": {},
   "source": [
    "## 4 创建DataLoader，便于做batch训练\n",
    "\n",
    "DL\\['train'\\]为训练集的DataLoader\n",
    "\n",
    "DL\\['val'\\]为验证集的DataLoader"
   ]
  },
  {
   "cell_type": "code",
   "execution_count": 6,
   "metadata": {},
   "outputs": [],
   "source": [
    "DS = {'train':trainset,'val':testset}\n",
    "DL = {'train':DataLoader(DS['train'], batch_size = 1, shuffle = True, num_workers = 0),'val':DataLoader(DS['val'], batch_size = 1, shuffle = True, num_workers = 0)}"
   ]
  },
  {
   "cell_type": "markdown",
   "metadata": {},
   "source": [
    "## 5 定义3d-UNet\n",
    "\n"
   ]
  },
  {
   "cell_type": "code",
   "execution_count": 4,
   "metadata": {},
   "outputs": [],
   "source": [
    "import torch.nn as nn \n",
    "import torch.nn.functional as F\n",
    "'''\n",
    "\n",
    "unet parts\n",
    "\n",
    "'''\n",
    "\n",
    "class DoubleConv(nn.Module):\n",
    "    \"\"\"(convolution => [BN] => ReLU) * 2\"\"\"\n",
    "\n",
    "    def __init__(self, in_channels, out_channels, mid_channels=None):\n",
    "        super().__init__()\n",
    "        if not mid_channels:\n",
    "            mid_channels = out_channels\n",
    "        self.double_conv = nn.Sequential(\n",
    "            nn.Conv3d(in_channels, mid_channels, kernel_size=3, padding=1),\n",
    "            nn.BatchNorm3d(mid_channels),\n",
    "            nn.ReLU(inplace=True),\n",
    "            nn.Conv3d(mid_channels, out_channels, kernel_size=3, padding=1),\n",
    "            nn.BatchNorm3d(out_channels),\n",
    "            nn.ReLU(inplace=True)\n",
    "        )\n",
    "\n",
    "    def forward(self, x):\n",
    "        return self.double_conv(x)\n",
    "\n",
    "\n",
    "class Down(nn.Module):\n",
    "    \"\"\"Downscaling with maxpool then double conv\"\"\"\n",
    "\n",
    "    def __init__(self, in_channels, out_channels):\n",
    "        super().__init__()\n",
    "        self.maxpool_conv = nn.Sequential(\n",
    "            nn.MaxPool3d(2),\n",
    "            DoubleConv(in_channels, out_channels)\n",
    "        )\n",
    "\n",
    "    def forward(self, x):\n",
    "        return self.maxpool_conv(x)\n",
    "\n",
    "\n",
    "class Up(nn.Module):\n",
    "    \"\"\"Upscaling then double conv\"\"\"\n",
    "\n",
    "    def __init__(self, in_channels, out_channels, bilinear=True):\n",
    "        super().__init__()\n",
    "\n",
    "        # if bilinear, use the normal convolutions to reduce the number of channels\n",
    "        if bilinear:\n",
    "            self.up = nn.Upsample(scale_factor=2, mode='bilinear', align_corners=True)\n",
    "            self.conv = DoubleConv(in_channels, out_channels, in_channels // 2)\n",
    "        else:\n",
    "            self.up = nn.ConvTranspose3d(in_channels , in_channels // 2, kernel_size=2, stride=2)\n",
    "            self.conv = DoubleConv(in_channels, out_channels)\n",
    "\n",
    "\n",
    "    def forward(self, x1, x2):\n",
    "        x1 = self.up(x1)\n",
    "        # input is CDHW\n",
    "        diffZ = x2.size()[2] - x1.size()[2]\n",
    "        diffY = x2.size()[3] - x1.size()[3]\n",
    "        diffX = x2.size()[4] - x1.size()[4]\n",
    "        x1 = F.pad(x1, [diffX // 2, diffX - diffX // 2,\n",
    "                        diffY // 2, diffY - diffY // 2,\n",
    "                        diffZ // 2, diffZ - diffZ // 2])\n",
    "        # if you have padding issues, see\n",
    "        # https://github.com/HaiyongJiang/U-Net-Pytorch-Unstructured-Buggy/commit/0e854509c2cea854e247a9c615f175f76fbb2e3a\n",
    "        # https://github.com/xiaopeng-liao/Pytorch-UNet/commit/8ebac70e633bac59fc22bb5195e513d5832fb3bd\n",
    "        x = torch.cat([x2, x1], dim=1)\n",
    "        return self.conv(x)\n",
    "\n",
    "\n",
    "class OutConv(nn.Module):\n",
    "    def __init__(self, in_channels, out_channels):\n",
    "        super(OutConv, self).__init__()\n",
    "        self.conv = nn.Conv3d(in_channels, out_channels, kernel_size=1)\n",
    "\n",
    "    def forward(self, x):\n",
    "        return self.conv(x)\n",
    "\n",
    "'''\n",
    "\n",
    "unet \n",
    "\n",
    "'''\n",
    "class UNet(nn.Module):\n",
    "    def __init__(self, n_channels, n_classes, bilinear=True):\n",
    "        super(UNet, self).__init__()\n",
    "        self.n_channels = n_channels\n",
    "        self.n_classes = n_classes\n",
    "        self.bilinear = bilinear\n",
    "\n",
    "        self.inc = DoubleConv(n_channels, 64)\n",
    "        self.down1 = Down(64, 128)\n",
    "        self.down2 = Down(128, 256)\n",
    "        self.down3 = Down(256, 512)\n",
    "        factor = 2 if bilinear else 1\n",
    "        self.down4 = Down(512, 1024 // factor)\n",
    "        self.up1 = Up(1024, 512 // factor, bilinear)\n",
    "        self.up2 = Up(512, 256 // factor, bilinear)\n",
    "        self.up3 = Up(256, 128 // factor, bilinear)\n",
    "        self.up4 = Up(128, 64, bilinear)\n",
    "        self.outc = OutConv(64, n_classes)\n",
    "\n",
    "    def forward(self, x):\n",
    "        x1 = self.inc(x)\n",
    "        x2 = self.down1(x1)\n",
    "        x3 = self.down2(x2)\n",
    "        x4 = self.down3(x3)\n",
    "        #x5 = self.down4(x4)\n",
    "        x = self.up2(x4, x3)\n",
    "        x = self.up3(x, x2)\n",
    "        x = self.up4(x, x1)\n",
    "\n",
    "        logits = self.outc(x)\n",
    "        return logits"
   ]
  },
  {
   "cell_type": "code",
   "execution_count": 8,
   "metadata": {},
   "outputs": [],
   "source": [
    "myunet = UNet(1,1,False)"
   ]
  },
  {
   "cell_type": "markdown",
   "metadata": {},
   "source": [
    "## 6 定义训练函数，实例化模型、损失函数、优化器"
   ]
  },
  {
   "cell_type": "code",
   "execution_count": 9,
   "metadata": {},
   "outputs": [],
   "source": [
    "def train_model(model, criterion, optimizer, scheduler, num_epochs=5):\n",
    "    since = time.time()\n",
    "\n",
    "    #best_model_wts = copy.deepcopy(model.state_dict())\n",
    "    best_acc = 0.0\n",
    "\n",
    "    for epoch in range(num_epochs):\n",
    "        print('Epoch {}/{}'.format(epoch, num_epochs - 1))\n",
    "        print('-' * 10)\n",
    "\n",
    "        # Each epoch has a training and validation phase\n",
    "        for phase in ['train', 'val']:\n",
    "            if phase == 'train':\n",
    "                model.train()  # Set model to training mode\n",
    "            else:\n",
    "                model.eval()   # Set model to evaluate mode\n",
    "\n",
    "            running_loss = 0.0\n",
    "            running_corrects = 0\n",
    "\n",
    "            # Iterate over data.\n",
    "            for inputs, labels in DL[phase]:\n",
    "                #inputs = inputs.double()\n",
    "                inputs = inputs.to(device)\n",
    "                labels = labels.to(device)\n",
    "\n",
    "                # zero the parameter gradients\n",
    "                optimizer.zero_grad()\n",
    "\n",
    "                # forward\n",
    "                # track history if only in train\n",
    "                with torch.set_grad_enabled(phase == 'train'):\n",
    "                    outputs = model(inputs)\n",
    "                    #print('output suc')\n",
    "                    #_, preds = torch.max(outputs, 1)\n",
    "                    loss = criterion(outputs, labels)\n",
    "                    \n",
    "\n",
    "                    # backward + optimize only if in training phase\n",
    "                    if phase == 'train':\n",
    "                        loss.backward()\n",
    "                        optimizer.step()\n",
    "\n",
    "                # statistics\n",
    "                running_loss += loss.item() * inputs.size(0)\n",
    "                del loss \n",
    "                #running_corrects += torch.sum(preds == labels.data)\n",
    "            if phase == 'train':\n",
    "                scheduler.step()\n",
    "\n",
    "            epoch_loss = running_loss / dataset_sizes[phase]\n",
    "            #epoch_acc = running_corrects.double() / dataset_sizes[phase]\n",
    "\n",
    "            print('{} Loss: {:.4f} '.format(\n",
    "                phase, epoch_loss))\n",
    "            torch.cuda.empty_cache()\n",
    "            torch.save(model.state_dict(),os.path.join('E:\\\\Image Processing','params_7_4.pkl'))\n",
    "            # deep copy the model\n",
    "            '''\n",
    "            if phase == 'val' and epoch_acc > best_acc:\n",
    "                best_acc = epoch_acc\n",
    "                best_model_wts = copy.deepcopy(model.state_dict())\n",
    "            '''\n",
    "        torch.save(model.state_dict(),os.path.join('E:\\\\Image Processing','params_7_4.pkl'))\n",
    "        print()\n",
    "\n",
    "    time_elapsed = time.time() - since\n",
    "    print('Training complete in {:.0f}m {:.0f}s'.format(\n",
    "        time_elapsed // 60, time_elapsed % 60))\n",
    "    #print('Best val Acc: {:4f}'.format(best_acc))\n",
    "\n",
    "    # load best model weights\n",
    "    #model.load_state_dict(best_model_wts)\n",
    "    return model"
   ]
  },
  {
   "cell_type": "code",
   "execution_count": 10,
   "metadata": {},
   "outputs": [],
   "source": [
    "import torch\n",
    "import torch.nn as nn\n",
    "import torch.optim as optim\n",
    "from torch.optim import lr_scheduler\n",
    "import numpy as np\n",
    "import torchvision\n",
    "from torchvision import datasets, models, transforms\n",
    "import matplotlib.pyplot as plt\n",
    "import time\n",
    "import os\n",
    "import copy\n",
    "\n",
    "\n",
    "#myunet = myunet.double()\n",
    "# Here the size of each output sample is set to 2.\n",
    "# Alternatively, it can be generalized to nn.Linear(num_ftrs, len(class_names)).\n",
    "myunet = myunet.to(device)\n",
    "\n",
    "#criterion = nn.CrossEntropyLoss()\n",
    "criterion = nn.BCEWithLogitsLoss()\n",
    "# Observe that all parameters are being optimized\n",
    "optimizer_ft = optim.SGD(myunet.parameters(), lr=0.001, momentum=0.9)\n",
    "#optimizer_ft = optim.RMSprop(myunet.parameters(), lr=0.1, weight_decay=1e-8, momentum=0.9)\n",
    "# Decay LR by a factor of 0.1 every 7 epochs\n",
    "exp_lr_scheduler = lr_scheduler.StepLR(optimizer_ft, step_size=7, gamma=0.1)"
   ]
  },
  {
   "cell_type": "markdown",
   "metadata": {},
   "source": [
    "## 7 开始训练"
   ]
  },
  {
   "cell_type": "code",
   "execution_count": 11,
   "metadata": {
    "tags": []
   },
   "outputs": [
    {
     "output_type": "stream",
     "name": "stdout",
     "text": "Epoch 0/4\n----------\ntrain Loss: 0.2852 \nval Loss: 0.0974 \n\nEpoch 1/4\n----------\ntrain Loss: 0.0673 \nval Loss: 0.0487 \n\nEpoch 2/4\n----------\ntrain Loss: 0.0417 \nval Loss: 0.0358 \n\nEpoch 3/4\n----------\ntrain Loss: 0.0323 \nval Loss: 0.0296 \n\nEpoch 4/4\n----------\ntrain Loss: 0.0276 \nval Loss: 0.0260 \n\nTraining complete in 19m 4s\n"
    }
   ],
   "source": [
    "import time\n",
    "import copy\n",
    "\n",
    "dataset_sizes = {x: len(DS[x]) for x in ['train', 'val']}\n",
    "myunet = train_model(myunet, criterion, optimizer_ft, exp_lr_scheduler,\n",
    "                       num_epochs=5)"
   ]
  },
  {
   "cell_type": "code",
   "execution_count": 14,
   "metadata": {
    "tags": []
   },
   "outputs": [],
   "source": [
    "def train_model_withParam(model, criterion, optimizer, scheduler, num_epochs=5):\n",
    "    since = time.time()\n",
    "    torch.load()\n",
    "    #best_model_wts = copy.deepcopy(model.state_dict())\n",
    "    best_acc = 0.0\n",
    "    model.load_state_dict(torch.load('E:\\\\Image Processing\\\\params_7_4.pkl'))\n",
    "    for epoch in range(num_epochs):\n",
    "        print('Epoch {}/{}'.format(epoch, num_epochs - 1))\n",
    "        print('-' * 10)\n",
    "\n",
    "        # Each epoch has a training and validation phase\n",
    "        for phase in ['train', 'val']:\n",
    "            if phase == 'train':\n",
    "                model.train()  # Set model to training mode\n",
    "            else:\n",
    "                model.eval()   # Set model to evaluate mode\n",
    "\n",
    "            running_loss = 0.0\n",
    "            running_corrects = 0\n",
    "\n",
    "            # Iterate over data.\n",
    "            for inputs, labels in DL[phase]:\n",
    "                #inputs = inputs.double()\n",
    "                inputs = inputs.to(device)\n",
    "                labels = labels.to(device)\n",
    "\n",
    "                # zero the parameter gradients\n",
    "                optimizer.zero_grad()\n",
    "\n",
    "                # forward\n",
    "                # track history if only in train\n",
    "                with torch.set_grad_enabled(phase == 'train'):\n",
    "                    outputs = model(inputs)\n",
    "                    #print('output suc')\n",
    "                    #_, preds = torch.max(outputs, 1)\n",
    "                    loss = criterion(outputs, labels)\n",
    "                    \n",
    "\n",
    "                    # backward + optimize only if in training phase\n",
    "                    if phase == 'train':\n",
    "                        loss.backward()\n",
    "                        optimizer.step()\n",
    "\n",
    "                # statistics\n",
    "                running_loss += loss.item() * inputs.size(0)\n",
    "                del loss \n",
    "                #running_corrects += torch.sum(preds == labels.data)\n",
    "            if phase == 'train':\n",
    "                scheduler.step()\n",
    "\n",
    "            epoch_loss = running_loss / dataset_sizes[phase]\n",
    "            #epoch_acc = running_corrects.double() / dataset_sizes[phase]\n",
    "\n",
    "            print('{} Loss: {:.4f} '.format(\n",
    "                phase, epoch_loss))\n",
    "            torch.cuda.empty_cache()\n",
    "            torch.save(model.state_dict(),os.path.join('E:\\\\Image Processing','params_7_3_1227.pkl'))\n",
    "            # deep copy the model\n",
    "            '''\n",
    "            if phase == 'val' and epoch_acc > best_acc:\n",
    "                best_acc = epoch_acc\n",
    "                best_model_wts = copy.deepcopy(model.state_dict())\n",
    "            '''\n",
    "        torch.save(model.state_dict(),os.path.join('E:\\\\Image Processing','params_7_3_1227.pkl'))\n",
    "        print()\n",
    "\n",
    "    time_elapsed = time.time() - since\n",
    "    print('Training complete in {:.0f}m {:.0f}s'.format(\n",
    "        time_elapsed // 60, time_elapsed % 60))\n",
    "    #print('Best val Acc: {:4f}'.format(best_acc))\n",
    "\n",
    "    # load best model weights\n",
    "    #model.load_state_dict(best_model_wts)\n",
    "    return model"
   ]
  },
  {
   "cell_type": "code",
   "execution_count": 15,
   "metadata": {
    "tags": []
   },
   "outputs": [
    {
     "output_type": "stream",
     "name": "stdout",
     "text": "Epoch 0/9\n----------\ntrain Loss: 0.0247 \nval Loss: 0.0238 \n\nEpoch 1/9\n----------\ntrain Loss: 0.0229 \nval Loss: 0.0223 \n\nEpoch 2/9\n----------\ntrain Loss: 0.0221 \nval Loss: 0.0222 \n\nEpoch 3/9\n----------\ntrain Loss: 0.0220 \nval Loss: 0.0221 \n\nEpoch 4/9\n----------\ntrain Loss: 0.0219 \nval Loss: 0.0221 \n\nEpoch 5/9\n----------\ntrain Loss: 0.0218 \nval Loss: 0.0219 \n\nEpoch 6/9\n----------\ntrain Loss: 0.0216 \nval Loss: 0.0218 \n\nEpoch 7/9\n----------\ntrain Loss: 0.0215 \nval Loss: 0.0217 \n\nEpoch 8/9\n----------\ntrain Loss: 0.0214 \nval Loss: 0.0216 \n\nEpoch 9/9\n----------\ntrain Loss: 0.0214 \nval Loss: 0.0215 \n\nTraining complete in 39m 41s\n"
    }
   ],
   "source": [
    "import time\n",
    "import copy\n",
    "\n",
    "dataset_sizes = {x: len(DS[x]) for x in ['train', 'val']}\n",
    "myunet = train_model(myunet, criterion, optimizer_ft, exp_lr_scheduler,\n",
    "                       num_epochs=10)"
   ]
  },
  {
   "cell_type": "markdown",
   "metadata": {},
   "source": [
    "## 8 验证训练结果"
   ]
  },
  {
   "cell_type": "code",
   "execution_count": 5,
   "metadata": {},
   "outputs": [],
   "source": [
    "import matplotlib.pyplot as plt \n",
    "def pred(model,sample):\n",
    "    ori = sample[0]\n",
    "    print(type(ori))\n",
    "    ori = ori.reshape((1,ori.size()[0],ori.size()[1],ori.size()[2],ori.size()[3]))\n",
    "    tar = sample[1][0]\n",
    "    ori = ori.to(device)\n",
    "    outputs = model(ori)\n",
    "    outputs = outputs.to('cpu')\n",
    "    outputs = outputs.detach().numpy() \n",
    "    predimg = outputs[0][0] \n",
    "    oriimg = sample[0].numpy()[0]\n",
    "    return oriiimg,tar,predimg\n",
    "\n",
    "    \n",
    "    \n"
   ]
  },
  {
   "cell_type": "code",
   "execution_count": 6,
   "metadata": {},
   "outputs": [],
   "source": [
    "m1 = cat_mask('.\\\\DB3\\\\label\\\\100label\\\\ADNI_002_S_0295_13722_ACPC')\n",
    "p1 = torch.from_numpy(cat_image('.\\\\DB3\\\\original\\\\100\\\\ADNI_002_S_0295_13722_ACPC'))"
   ]
  },
  {
   "cell_type": "code",
   "execution_count": 7,
   "metadata": {
    "tags": []
   },
   "outputs": [
    {
     "output_type": "stream",
     "name": "stdout",
     "text": "<class 'torch.Tensor'>\n"
    },
    {
     "output_type": "display_data",
     "data": {
      "text/plain": "<Figure size 360x360 with 3 Axes>",
      "image/svg+xml": "<?xml version=\"1.0\" encoding=\"utf-8\" standalone=\"no\"?>\r\n<!DOCTYPE svg PUBLIC \"-//W3C//DTD SVG 1.1//EN\"\r\n  \"http://www.w3.org/Graphics/SVG/1.1/DTD/svg11.dtd\">\r\n<!-- Created with matplotlib (https://matplotlib.org/) -->\r\n<svg height=\"306.052803pt\" version=\"1.1\" viewBox=\"0 0 114.066176 306.052803\" width=\"114.066176pt\" xmlns=\"http://www.w3.org/2000/svg\" xmlns:xlink=\"http://www.w3.org/1999/xlink\">\r\n <defs>\r\n  <style type=\"text/css\">\r\n*{stroke-linecap:butt;stroke-linejoin:round;}\r\n  </style>\r\n </defs>\r\n <g id=\"figure_1\">\r\n  <g id=\"patch_1\">\r\n   <path d=\"M 0 306.052803 \r\nL 114.066176 306.052803 \r\nL 114.066176 0 \r\nL 0 0 \r\nz\r\n\" style=\"fill:none;\"/>\r\n  </g>\r\n  <g id=\"axes_1\">\r\n   <g id=\"patch_2\">\r\n    <path d=\"M 26.925 90.315855 \r\nL 106.866176 90.315855 \r\nL 106.866176 10.374678 \r\nL 26.925 10.374678 \r\nz\r\n\" style=\"fill:#ffffff;\"/>\r\n   </g>\r\n   <g clip-path=\"url(#p17c89bff02)\">\r\n    <image height=\"80\" id=\"image2d48f3c652\" transform=\"scale(1 -1)translate(0 -80)\" width=\"80\" x=\"26.925\" xlink:href=\"data:image/png;base64,\r\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\" y=\"-10.315855\"/>\r\n   </g>\r\n   <g id=\"matplotlib.axis_1\">\r\n    <g id=\"xtick_1\">\r\n     <g id=\"line2d_1\">\r\n      <defs>\r\n       <path d=\"M 0 0 \r\nL 0 3.5 \r\n\" id=\"m4c838b5f6a\" style=\"stroke:#000000;stroke-width:0.8;\"/>\r\n      </defs>\r\n      <g>\r\n       <use style=\"stroke:#000000;stroke-width:0.8;\" x=\"27.54954\" xlink:href=\"#m4c838b5f6a\" y=\"90.315855\"/>\r\n      </g>\r\n     </g>\r\n     <g id=\"text_1\">\r\n      <!-- 0 -->\r\n      <defs>\r\n       <path d=\"M 31.78125 66.40625 \r\nQ 24.171875 66.40625 20.328125 58.90625 \r\nQ 16.5 51.421875 16.5 36.375 \r\nQ 16.5 21.390625 20.328125 13.890625 \r\nQ 24.171875 6.390625 31.78125 6.390625 \r\nQ 39.453125 6.390625 43.28125 13.890625 \r\nQ 47.125 21.390625 47.125 36.375 \r\nQ 47.125 51.421875 43.28125 58.90625 \r\nQ 39.453125 66.40625 31.78125 66.40625 \r\nz\r\nM 31.78125 74.21875 \r\nQ 44.046875 74.21875 50.515625 64.515625 \r\nQ 56.984375 54.828125 56.984375 36.375 \r\nQ 56.984375 17.96875 50.515625 8.265625 \r\nQ 44.046875 -1.421875 31.78125 -1.421875 \r\nQ 19.53125 -1.421875 13.0625 8.265625 \r\nQ 6.59375 17.96875 6.59375 36.375 \r\nQ 6.59375 54.828125 13.0625 64.515625 \r\nQ 19.53125 74.21875 31.78125 74.21875 \r\nz\r\n\" id=\"DejaVuSans-48\"/>\r\n      </defs>\r\n      <g transform=\"translate(24.36829 104.914292)scale(0.1 -0.1)\">\r\n       <use xlink:href=\"#DejaVuSans-48\"/>\r\n      </g>\r\n     </g>\r\n    </g>\r\n    <g id=\"xtick_2\">\r\n     <g id=\"line2d_2\">\r\n      <g>\r\n       <use style=\"stroke:#000000;stroke-width:0.8;\" x=\"90.003585\" xlink:href=\"#m4c838b5f6a\" y=\"90.315855\"/>\r\n      </g>\r\n     </g>\r\n     <g id=\"text_2\">\r\n      <!-- 50 -->\r\n      <defs>\r\n       <path d=\"M 10.796875 72.90625 \r\nL 49.515625 72.90625 \r\nL 49.515625 64.59375 \r\nL 19.828125 64.59375 \r\nL 19.828125 46.734375 \r\nQ 21.96875 47.46875 24.109375 47.828125 \r\nQ 26.265625 48.1875 28.421875 48.1875 \r\nQ 40.625 48.1875 47.75 41.5 \r\nQ 54.890625 34.8125 54.890625 23.390625 \r\nQ 54.890625 11.625 47.5625 5.09375 \r\nQ 40.234375 -1.421875 26.90625 -1.421875 \r\nQ 22.3125 -1.421875 17.546875 -0.640625 \r\nQ 12.796875 0.140625 7.71875 1.703125 \r\nL 7.71875 11.625 \r\nQ 12.109375 9.234375 16.796875 8.0625 \r\nQ 21.484375 6.890625 26.703125 6.890625 \r\nQ 35.15625 6.890625 40.078125 11.328125 \r\nQ 45.015625 15.765625 45.015625 23.390625 \r\nQ 45.015625 31 40.078125 35.4375 \r\nQ 35.15625 39.890625 26.703125 39.890625 \r\nQ 22.75 39.890625 18.8125 39.015625 \r\nQ 14.890625 38.140625 10.796875 36.28125 \r\nz\r\n\" id=\"DejaVuSans-53\"/>\r\n      </defs>\r\n      <g transform=\"translate(83.641085 104.914292)scale(0.1 -0.1)\">\r\n       <use xlink:href=\"#DejaVuSans-53\"/>\r\n       <use x=\"63.623047\" xlink:href=\"#DejaVuSans-48\"/>\r\n      </g>\r\n     </g>\r\n    </g>\r\n   </g>\r\n   <g id=\"matplotlib.axis_2\">\r\n    <g id=\"ytick_1\">\r\n     <g id=\"line2d_3\">\r\n      <defs>\r\n       <path d=\"M 0 0 \r\nL -3.5 0 \r\n\" id=\"m614aba989e\" style=\"stroke:#000000;stroke-width:0.8;\"/>\r\n      </defs>\r\n      <g>\r\n       <use style=\"stroke:#000000;stroke-width:0.8;\" x=\"26.925\" xlink:href=\"#m614aba989e\" y=\"10.999219\"/>\r\n      </g>\r\n     </g>\r\n     <g id=\"text_3\">\r\n      <!-- 0 -->\r\n      <g transform=\"translate(13.5625 14.798438)scale(0.1 -0.1)\">\r\n       <use xlink:href=\"#DejaVuSans-48\"/>\r\n      </g>\r\n     </g>\r\n    </g>\r\n    <g id=\"ytick_2\">\r\n     <g id=\"line2d_4\">\r\n      <g>\r\n       <use style=\"stroke:#000000;stroke-width:0.8;\" x=\"26.925\" xlink:href=\"#m614aba989e\" y=\"42.226241\"/>\r\n      </g>\r\n     </g>\r\n     <g id=\"text_4\">\r\n      <!-- 25 -->\r\n      <defs>\r\n       <path d=\"M 19.1875 8.296875 \r\nL 53.609375 8.296875 \r\nL 53.609375 0 \r\nL 7.328125 0 \r\nL 7.328125 8.296875 \r\nQ 12.9375 14.109375 22.625 23.890625 \r\nQ 32.328125 33.6875 34.8125 36.53125 \r\nQ 39.546875 41.84375 41.421875 45.53125 \r\nQ 43.3125 49.21875 43.3125 52.78125 \r\nQ 43.3125 58.59375 39.234375 62.25 \r\nQ 35.15625 65.921875 28.609375 65.921875 \r\nQ 23.96875 65.921875 18.8125 64.3125 \r\nQ 13.671875 62.703125 7.8125 59.421875 \r\nL 7.8125 69.390625 \r\nQ 13.765625 71.78125 18.9375 73 \r\nQ 24.125 74.21875 28.421875 74.21875 \r\nQ 39.75 74.21875 46.484375 68.546875 \r\nQ 53.21875 62.890625 53.21875 53.421875 \r\nQ 53.21875 48.921875 51.53125 44.890625 \r\nQ 49.859375 40.875 45.40625 35.40625 \r\nQ 44.1875 33.984375 37.640625 27.21875 \r\nQ 31.109375 20.453125 19.1875 8.296875 \r\nz\r\n\" id=\"DejaVuSans-50\"/>\r\n      </defs>\r\n      <g transform=\"translate(7.2 46.02546)scale(0.1 -0.1)\">\r\n       <use xlink:href=\"#DejaVuSans-50\"/>\r\n       <use x=\"63.623047\" xlink:href=\"#DejaVuSans-53\"/>\r\n      </g>\r\n     </g>\r\n    </g>\r\n    <g id=\"ytick_3\">\r\n     <g id=\"line2d_5\">\r\n      <g>\r\n       <use style=\"stroke:#000000;stroke-width:0.8;\" x=\"26.925\" xlink:href=\"#m614aba989e\" y=\"73.453263\"/>\r\n      </g>\r\n     </g>\r\n     <g id=\"text_5\">\r\n      <!-- 50 -->\r\n      <g transform=\"translate(7.2 77.252482)scale(0.1 -0.1)\">\r\n       <use xlink:href=\"#DejaVuSans-53\"/>\r\n       <use x=\"63.623047\" xlink:href=\"#DejaVuSans-48\"/>\r\n      </g>\r\n     </g>\r\n    </g>\r\n   </g>\r\n   <g id=\"patch_3\">\r\n    <path d=\"M 26.925 90.315855 \r\nL 26.925 10.374678 \r\n\" style=\"fill:none;stroke:#000000;stroke-linecap:square;stroke-linejoin:miter;stroke-width:0.8;\"/>\r\n   </g>\r\n   <g id=\"patch_4\">\r\n    <path d=\"M 106.866176 90.315855 \r\nL 106.866176 10.374678 \r\n\" style=\"fill:none;stroke:#000000;stroke-linecap:square;stroke-linejoin:miter;stroke-width:0.8;\"/>\r\n   </g>\r\n   <g id=\"patch_5\">\r\n    <path d=\"M 26.925 90.315855 \r\nL 106.866176 90.315855 \r\n\" style=\"fill:none;stroke:#000000;stroke-linecap:square;stroke-linejoin:miter;stroke-width:0.8;\"/>\r\n   </g>\r\n   <g id=\"patch_6\">\r\n    <path d=\"M 26.925 10.374678 \r\nL 106.866176 10.374678 \r\n\" style=\"fill:none;stroke:#000000;stroke-linecap:square;stroke-linejoin:miter;stroke-width:0.8;\"/>\r\n   </g>\r\n  </g>\r\n  <g id=\"axes_2\">\r\n   <g id=\"patch_7\">\r\n    <path d=\"M 26.925 186.245267 \r\nL 106.866176 186.245267 \r\nL 106.866176 106.30409 \r\nL 26.925 106.30409 \r\nz\r\n\" style=\"fill:#ffffff;\"/>\r\n   </g>\r\n   <g clip-path=\"url(#p2bf8d0c2ef)\">\r\n    <image height=\"80\" id=\"image8c9dc115be\" transform=\"scale(1 -1)translate(0 -80)\" width=\"80\" x=\"26.925\" xlink:href=\"data:image/png;base64,\r\niVBORw0KGgoAAAANSUhEUgAAAFAAAABQCAYAAACOEfKtAAAABHNCSVQICAgIfAhkiAAAAvdJREFUeJzt27FKK0scx/HfZHcDIYIgggiKoJ2NfTCY3nfQyhewFUGxs1PIM/gMFj6CQohaKCiJLGELoyDi6u7O/zRXybmnUX93vRz4fWCqwMzOd5OdpIhzzhnk2yr/9wX87RSQpIAkBSQpIEkBSQpIUkCSApIUkKSAJAUkKSBJAUkKSFJAkgKSFJCkgCQFJCkgSQFJCkhSQJICkhSQpIAkBSQpIEkBSQpIUkCSApIUkKSApB8L6Jz7GJVKBc65b81jZn8MAKjVar/NP/pamcLSVxixsrKCZrOJSqUC7z263S46nQ5ub28/Pcd7JABoNptoNBrw3qPT6SDPc/T7ffR6PRRF8e2b9BWBc26nrMlHN7C4uIiNjQ1sbm6i1Wqh1WphbGwMg8EA19fXX5o3DEM457C2toatrS0sLy8DAJaWlhBFER4eHvD4+Pgj70A456yMEYahVatVC8PQoiiy09NTG/X29mbPz8+2t7dnExMTVqvVPj13FEXmnLPt7W1L09S895ZlmWVZZldXV9Zut61er5eyr3+P0gIGQfAR7/Dw0JIksaIoLM9zy7LMVldXbXJy0qIosiAIPn/BwMfY2dmxNE3t7u7OGo2GXVxcWJ7nFsexHRwcWBiGf3fA9zjz8/N2fHxsw+HQvPeWpqnNzc1ZtVr9+gWPBJyZmbH19XV7eXmxs7Mze3p6Mu+9JUli7Xb7RwKWeoi8n4T9fh9BEOD8/BzdbhdJkmA4HMLM4Jz70rPKjTxX4zjGyckJ9vf3MT4+junpadTrdXjv8fr6WsaW/lBawNGvGc45DAYDXF5e4ujoCL1eD1EUfZyozMM+jmPs7u5idnYWU1NTWFhYwP39PW5ubn7kEHH/fCzKXuS3zTjnEAQBAKAoiv9ko+yNINbVnw0Z+ilHUkCSApIUkKSAJAUkKSBJAUkKSFJAkgKSFJCkgCQFJCkgSQFJCkhSQJICkhSQpIAkBSQpIEkBSQpIUkCSApIUkKSAJAUkKSBJAUkKSFJA0i/I8PamMpAyRwAAAABJRU5ErkJggg==\" y=\"-106.245267\"/>\r\n   </g>\r\n   <g id=\"matplotlib.axis_3\">\r\n    <g id=\"xtick_3\">\r\n     <g id=\"line2d_6\">\r\n      <g>\r\n       <use style=\"stroke:#000000;stroke-width:0.8;\" x=\"27.54954\" xlink:href=\"#m4c838b5f6a\" y=\"186.245267\"/>\r\n      </g>\r\n     </g>\r\n     <g id=\"text_6\">\r\n      <!-- 0 -->\r\n      <g transform=\"translate(24.36829 200.843704)scale(0.1 -0.1)\">\r\n       <use xlink:href=\"#DejaVuSans-48\"/>\r\n      </g>\r\n     </g>\r\n    </g>\r\n    <g id=\"xtick_4\">\r\n     <g id=\"line2d_7\">\r\n      <g>\r\n       <use style=\"stroke:#000000;stroke-width:0.8;\" x=\"90.003585\" xlink:href=\"#m4c838b5f6a\" y=\"186.245267\"/>\r\n      </g>\r\n     </g>\r\n     <g id=\"text_7\">\r\n      <!-- 50 -->\r\n      <g transform=\"translate(83.641085 200.843704)scale(0.1 -0.1)\">\r\n       <use xlink:href=\"#DejaVuSans-53\"/>\r\n       <use x=\"63.623047\" xlink:href=\"#DejaVuSans-48\"/>\r\n      </g>\r\n     </g>\r\n    </g>\r\n   </g>\r\n   <g id=\"matplotlib.axis_4\">\r\n    <g id=\"ytick_4\">\r\n     <g id=\"line2d_8\">\r\n      <g>\r\n       <use style=\"stroke:#000000;stroke-width:0.8;\" x=\"26.925\" xlink:href=\"#m614aba989e\" y=\"106.928631\"/>\r\n      </g>\r\n     </g>\r\n     <g id=\"text_8\">\r\n      <!-- 0 -->\r\n      <g transform=\"translate(13.5625 110.727849)scale(0.1 -0.1)\">\r\n       <use xlink:href=\"#DejaVuSans-48\"/>\r\n      </g>\r\n     </g>\r\n    </g>\r\n    <g id=\"ytick_5\">\r\n     <g id=\"line2d_9\">\r\n      <g>\r\n       <use style=\"stroke:#000000;stroke-width:0.8;\" x=\"26.925\" xlink:href=\"#m614aba989e\" y=\"138.155653\"/>\r\n      </g>\r\n     </g>\r\n     <g id=\"text_9\">\r\n      <!-- 25 -->\r\n      <g transform=\"translate(7.2 141.954871)scale(0.1 -0.1)\">\r\n       <use xlink:href=\"#DejaVuSans-50\"/>\r\n       <use x=\"63.623047\" xlink:href=\"#DejaVuSans-53\"/>\r\n      </g>\r\n     </g>\r\n    </g>\r\n    <g id=\"ytick_6\">\r\n     <g id=\"line2d_10\">\r\n      <g>\r\n       <use style=\"stroke:#000000;stroke-width:0.8;\" x=\"26.925\" xlink:href=\"#m614aba989e\" y=\"169.382675\"/>\r\n      </g>\r\n     </g>\r\n     <g id=\"text_10\">\r\n      <!-- 50 -->\r\n      <g transform=\"translate(7.2 173.181893)scale(0.1 -0.1)\">\r\n       <use xlink:href=\"#DejaVuSans-53\"/>\r\n       <use x=\"63.623047\" xlink:href=\"#DejaVuSans-48\"/>\r\n      </g>\r\n     </g>\r\n    </g>\r\n   </g>\r\n   <g id=\"patch_8\">\r\n    <path d=\"M 26.925 186.245267 \r\nL 26.925 106.30409 \r\n\" style=\"fill:none;stroke:#000000;stroke-linecap:square;stroke-linejoin:miter;stroke-width:0.8;\"/>\r\n   </g>\r\n   <g id=\"patch_9\">\r\n    <path d=\"M 106.866176 186.245267 \r\nL 106.866176 106.30409 \r\n\" style=\"fill:none;stroke:#000000;stroke-linecap:square;stroke-linejoin:miter;stroke-width:0.8;\"/>\r\n   </g>\r\n   <g id=\"patch_10\">\r\n    <path d=\"M 26.925 186.245267 \r\nL 106.866176 186.245267 \r\n\" style=\"fill:none;stroke:#000000;stroke-linecap:square;stroke-linejoin:miter;stroke-width:0.8;\"/>\r\n   </g>\r\n   <g id=\"patch_11\">\r\n    <path d=\"M 26.925 106.30409 \r\nL 106.866176 106.30409 \r\n\" style=\"fill:none;stroke:#000000;stroke-linecap:square;stroke-linejoin:miter;stroke-width:0.8;\"/>\r\n   </g>\r\n  </g>\r\n  <g id=\"axes_3\">\r\n   <g id=\"patch_12\">\r\n    <path d=\"M 26.925 282.174678 \r\nL 106.866176 282.174678 \r\nL 106.866176 202.233502 \r\nL 26.925 202.233502 \r\nz\r\n\" style=\"fill:#ffffff;\"/>\r\n   </g>\r\n   <g clip-path=\"url(#p478b88896b)\">\r\n    <image height=\"80\" id=\"imagef8ffa7cea6\" transform=\"scale(1 -1)translate(0 -80)\" width=\"80\" x=\"26.925\" xlink:href=\"data:image/png;base64,\r\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\" y=\"-202.174678\"/>\r\n   </g>\r\n   <g id=\"matplotlib.axis_5\">\r\n    <g id=\"xtick_5\">\r\n     <g id=\"line2d_11\">\r\n      <g>\r\n       <use style=\"stroke:#000000;stroke-width:0.8;\" x=\"27.54954\" xlink:href=\"#m4c838b5f6a\" y=\"282.174678\"/>\r\n      </g>\r\n     </g>\r\n     <g id=\"text_11\">\r\n      <!-- 0 -->\r\n      <g transform=\"translate(24.36829 296.773116)scale(0.1 -0.1)\">\r\n       <use xlink:href=\"#DejaVuSans-48\"/>\r\n      </g>\r\n     </g>\r\n    </g>\r\n    <g id=\"xtick_6\">\r\n     <g id=\"line2d_12\">\r\n      <g>\r\n       <use style=\"stroke:#000000;stroke-width:0.8;\" x=\"90.003585\" xlink:href=\"#m4c838b5f6a\" y=\"282.174678\"/>\r\n      </g>\r\n     </g>\r\n     <g id=\"text_12\">\r\n      <!-- 50 -->\r\n      <g transform=\"translate(83.641085 296.773116)scale(0.1 -0.1)\">\r\n       <use xlink:href=\"#DejaVuSans-53\"/>\r\n       <use x=\"63.623047\" xlink:href=\"#DejaVuSans-48\"/>\r\n      </g>\r\n     </g>\r\n    </g>\r\n   </g>\r\n   <g id=\"matplotlib.axis_6\">\r\n    <g id=\"ytick_7\">\r\n     <g id=\"line2d_13\">\r\n      <g>\r\n       <use style=\"stroke:#000000;stroke-width:0.8;\" x=\"26.925\" xlink:href=\"#m614aba989e\" y=\"202.858042\"/>\r\n      </g>\r\n     </g>\r\n     <g id=\"text_13\">\r\n      <!-- 0 -->\r\n      <g transform=\"translate(13.5625 206.657261)scale(0.1 -0.1)\">\r\n       <use xlink:href=\"#DejaVuSans-48\"/>\r\n      </g>\r\n     </g>\r\n    </g>\r\n    <g id=\"ytick_8\">\r\n     <g id=\"line2d_14\">\r\n      <g>\r\n       <use style=\"stroke:#000000;stroke-width:0.8;\" x=\"26.925\" xlink:href=\"#m614aba989e\" y=\"234.085064\"/>\r\n      </g>\r\n     </g>\r\n     <g id=\"text_14\">\r\n      <!-- 25 -->\r\n      <g transform=\"translate(7.2 237.884283)scale(0.1 -0.1)\">\r\n       <use xlink:href=\"#DejaVuSans-50\"/>\r\n       <use x=\"63.623047\" xlink:href=\"#DejaVuSans-53\"/>\r\n      </g>\r\n     </g>\r\n    </g>\r\n    <g id=\"ytick_9\">\r\n     <g id=\"line2d_15\">\r\n      <g>\r\n       <use style=\"stroke:#000000;stroke-width:0.8;\" x=\"26.925\" xlink:href=\"#m614aba989e\" y=\"265.312086\"/>\r\n      </g>\r\n     </g>\r\n     <g id=\"text_15\">\r\n      <!-- 50 -->\r\n      <g transform=\"translate(7.2 269.111305)scale(0.1 -0.1)\">\r\n       <use xlink:href=\"#DejaVuSans-53\"/>\r\n       <use x=\"63.623047\" xlink:href=\"#DejaVuSans-48\"/>\r\n      </g>\r\n     </g>\r\n    </g>\r\n   </g>\r\n   <g id=\"patch_13\">\r\n    <path d=\"M 26.925 282.174678 \r\nL 26.925 202.233502 \r\n\" style=\"fill:none;stroke:#000000;stroke-linecap:square;stroke-linejoin:miter;stroke-width:0.8;\"/>\r\n   </g>\r\n   <g id=\"patch_14\">\r\n    <path d=\"M 106.866176 282.174678 \r\nL 106.866176 202.233502 \r\n\" style=\"fill:none;stroke:#000000;stroke-linecap:square;stroke-linejoin:miter;stroke-width:0.8;\"/>\r\n   </g>\r\n   <g id=\"patch_15\">\r\n    <path d=\"M 26.925 282.174678 \r\nL 106.866176 282.174678 \r\n\" style=\"fill:none;stroke:#000000;stroke-linecap:square;stroke-linejoin:miter;stroke-width:0.8;\"/>\r\n   </g>\r\n   <g id=\"patch_16\">\r\n    <path d=\"M 26.925 202.233502 \r\nL 106.866176 202.233502 \r\n\" style=\"fill:none;stroke:#000000;stroke-linecap:square;stroke-linejoin:miter;stroke-width:0.8;\"/>\r\n   </g>\r\n  </g>\r\n </g>\r\n <defs>\r\n  <clipPath id=\"p17c89bff02\">\r\n   <rect height=\"79.941176\" width=\"79.941176\" x=\"26.925\" y=\"10.374678\"/>\r\n  </clipPath>\r\n  <clipPath id=\"p2bf8d0c2ef\">\r\n   <rect height=\"79.941176\" width=\"79.941176\" x=\"26.925\" y=\"106.30409\"/>\r\n  </clipPath>\r\n  <clipPath id=\"p478b88896b\">\r\n   <rect height=\"79.941176\" width=\"79.941176\" x=\"26.925\" y=\"202.233502\"/>\r\n  </clipPath>\r\n </defs>\r\n</svg>\r\n",
      "image/png": "[encoded data removed]"
     },
     "metadata": {
      "needs_background": "light"
     }
    }
   ],
   "source": [
    "unet = UNet(1,1,False)\n",
    "unet = unet.to(device)\n",
    "unet.load_state_dict(torch.load('E:\\\\Image Processing\\\\params_7_3_1227.pkl'))\n",
    "oriimg,tar,predimg = pred(unet,(p1,m1))\n",
    "\n",
    "\n",
    "plt.figure(None,(5,5))\n",
    "plt.subplot(3,1,1)\n",
    "plt.imshow(oriimg[70,:,:],cmap='gray')\n",
    "plt.subplot(312)\n",
    "plt.imshow(tar[70,:,:],cmap='gray')\n",
    "plt.subplot(313)\n",
    "plt.imshow(predimg[70,:,:],cmap='gray')"
   ]
  },
  {
   "cell_type": "code",
   "execution_count": null,
   "metadata": {},
   "outputs": [],
   "source": []
  }
 ],
 "metadata": {
  "language_info": {
   "codemirror_mode": {
    "name": "ipython",
    "version": 3
   },
   "file_extension": ".py",
   "mimetype": "text/x-python",
   "name": "python",
   "nbconvert_exporter": "python",
   "pygments_lexer": "ipython3",
   "version": "3.7.7-final"
  },
  "orig_nbformat": 2,
  "kernelspec": {
   "name": "python37764bit5010193dea13429cabddbc4c8a7a9b41",
   "display_name": "Python 3.7.7 64-bit"
  }
 },
 "nbformat": 4,
 "nbformat_minor": 2
}